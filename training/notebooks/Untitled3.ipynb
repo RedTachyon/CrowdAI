{
 "cells": [
  {
   "cell_type": "code",
   "execution_count": 1,
   "metadata": {},
   "outputs": [],
   "source": [
    "import sys\n",
    "sys.path.insert(0, '..')\n",
    "\n",
    "import numpy as np\n",
    "\n",
    "from envs import UnitySimpleCrowdEnv\n",
    "\n",
    "from tqdm import trange, tqdm"
   ]
  },
  {
   "cell_type": "code",
   "execution_count": 2,
   "metadata": {},
   "outputs": [],
   "source": [
    "env = UnitySimpleCrowdEnv(None)"
   ]
  },
  {
   "cell_type": "code",
   "execution_count": 3,
   "metadata": {},
   "outputs": [],
   "source": [
    "obs = env.reset()"
   ]
  },
  {
   "cell_type": "code",
   "execution_count": 4,
   "metadata": {},
   "outputs": [],
   "source": [
    "obs_hist = []\n",
    "rew_hist = []"
   ]
  },
  {
   "cell_type": "code",
   "execution_count": 5,
   "metadata": {},
   "outputs": [
    {
     "name": "stderr",
     "output_type": "stream",
     "text": [
      "100%|██████████| 20/20 [00:00<00:00, 26.85it/s]\n"
     ]
    }
   ],
   "source": [
    "for i in trange(20):\n",
    "    obs_hist.append(obs)\n",
    "    obs, reward, done, info = env.step({k: np.array([0, 0]) for k in obs})\n",
    "    rew_hist.append(reward)\n",
    "    if any(done.values()):\n",
    "        print(i)\n",
    "        break"
   ]
  },
  {
   "cell_type": "code",
   "execution_count": 17,
   "metadata": {},
   "outputs": [
    {
     "data": {
      "text/plain": [
       "[]"
      ]
     },
     "execution_count": 17,
     "metadata": {},
     "output_type": "execute_result"
    }
   ],
   "source": [
    "env.stats_channel.msg_buffer"
   ]
  },
  {
   "cell_type": "code",
   "execution_count": 21,
   "metadata": {},
   "outputs": [
    {
     "data": {
      "text/plain": [
       "{'final_obs': {},\n",
       " 'final_rewards': {},\n",
       " 'm_mean_dist': array([9.541105, 8.351412], dtype=float32),\n",
       " 'm_mean_speed': array([3.527491e-09, 3.010902e-09], dtype=float32),\n",
       " 'm_mean_finish': array([0., 0.], dtype=float32),\n",
       " 'm_mean_collision': array([0. , 0.5], dtype=float32)}"
      ]
     },
     "execution_count": 21,
     "metadata": {},
     "output_type": "execute_result"
    }
   ],
   "source": [
    "info"
   ]
  },
  {
   "cell_type": "code",
   "execution_count": 8,
   "metadata": {},
   "outputs": [
    {
     "data": {
      "text/plain": [
       "{'final_obs': {'Person1?team=0&id=0': array([-0.40579042, -0.48945203,  0.7070899 ,  0.7070899 ], dtype=float32),\n",
       "  'Person1?team=0&id=2': array([-0.19203171,  0.00841434,  0.7070899 ,  0.7070899 ], dtype=float32),\n",
       "  'Person1?team=0&id=3': array([-0.18666261, -0.44272622,  0.7070899 ,  0.7070899 ], dtype=float32),\n",
       "  'Person1?team=0&id=4': array([-0.27651837, -0.02235913,  0.0007406 ,  0.7070899 ], dtype=float32),\n",
       "  'Person1?team=0&id=5': array([-1.1244452e-01, -4.7753230e-01,  7.0709002e-01,  2.7738215e-04],\n",
       "        dtype=float32),\n",
       "  'Person1?team=0&id=6': array([-7.1512878e-01, -2.0595054e-01,  3.0753613e-04,  7.4605739e-01],\n",
       "        dtype=float32),\n",
       "  'Person1?team=0&id=7': array([-7.6496917e-01, -4.5536757e-02,  7.0708996e-01,  7.3807238e-04],\n",
       "        dtype=float32),\n",
       "  'Person1?team=0&id=8': array([-0.42840084,  0.0935936 ,  0.7070899 ,  0.7070899 ], dtype=float32),\n",
       "  'Person1?team=0&id=9': array([-0.8368122 , -0.41190052,  0.7070899 ,  0.7070899 ], dtype=float32),\n",
       "  'Person1?team=0&id=10': array([-4.9992284e-01, -7.7317941e-01,  1.0744929e-04,  6.3323976e-05],\n",
       "        dtype=float32),\n",
       "  'Person1?team=0&id=11': array([-4.4594008e-01, -2.4801998e-01,  2.7204753e-04,  7.0708990e-01],\n",
       "        dtype=float32),\n",
       "  'Person1?team=0&id=12': array([-0.2641911 , -0.05723321,  0.7070899 ,  0.7070899 ], dtype=float32),\n",
       "  'Person1?team=0&id=13': array([-0.36290255, -0.5413566 ,  0.7070899 ,  0.7070899 ], dtype=float32),\n",
       "  'Person1?team=0&id=14': array([-0.8188442 ,  0.17007397,  0.7070899 ,  0.7070899 ], dtype=float32),\n",
       "  'Person1?team=0&id=15': array([-0.34271234, -0.500134  ,  0.7070899 ,  0.7070899 ], dtype=float32),\n",
       "  'Person1?team=0&id=16': array([-0.2086393 , -0.16319695,  0.7070899 ,  0.7070899 ], dtype=float32),\n",
       "  'Person1?team=0&id=17': array([ 0.11828069, -0.50843877,  0.7070899 ,  0.7070899 ], dtype=float32),\n",
       "  'Person1?team=0&id=18': array([-2.4802971e-01,  8.1711605e-02,  2.7307271e-04,  7.0708990e-01],\n",
       "        dtype=float32),\n",
       "  'Person1?team=0&id=19': array([-0.6171458 ,  0.20507483,  0.7070899 ,  0.7070899 ], dtype=float32),\n",
       "  'Person1?team=0&id=20': array([-4.3753663e-01, -4.1206852e-01,  2.7119517e-04,  6.6812235e-01],\n",
       "        dtype=float32)},\n",
       " 'final_rewards': {'Person1?team=0&id=0': 0.0,\n",
       "  'Person1?team=0&id=2': 0.0,\n",
       "  'Person1?team=0&id=3': 0.0,\n",
       "  'Person1?team=0&id=4': 0.0,\n",
       "  'Person1?team=0&id=5': 0.0,\n",
       "  'Person1?team=0&id=6': 0.0,\n",
       "  'Person1?team=0&id=7': 0.0,\n",
       "  'Person1?team=0&id=8': 0.0,\n",
       "  'Person1?team=0&id=9': 0.0,\n",
       "  'Person1?team=0&id=10': 0.0,\n",
       "  'Person1?team=0&id=11': 0.0,\n",
       "  'Person1?team=0&id=12': 0.0,\n",
       "  'Person1?team=0&id=13': 0.0,\n",
       "  'Person1?team=0&id=14': 0.0,\n",
       "  'Person1?team=0&id=15': 0.0,\n",
       "  'Person1?team=0&id=16': 0.0,\n",
       "  'Person1?team=0&id=17': 0.0,\n",
       "  'Person1?team=0&id=18': 0.0,\n",
       "  'Person1?team=0&id=19': 0.0,\n",
       "  'Person1?team=0&id=20': 0.0},\n",
       " 'm_mean_dist': array([8.369744], dtype=float32),\n",
       " 'm_mean_speed': array([0.], dtype=float32),\n",
       " 'm_mean_finish': array([0.], dtype=float32),\n",
       " 'm_mean_collision': array([0.], dtype=float32)}"
      ]
     },
     "execution_count": 8,
     "metadata": {},
     "output_type": "execute_result"
    }
   ],
   "source": [
    "info"
   ]
  },
  {
   "cell_type": "markdown",
   "metadata": {},
   "source": [
    "TODO: test if it works well with normally-ended episodes"
   ]
  },
  {
   "cell_type": "code",
   "execution_count": 11,
   "metadata": {},
   "outputs": [
    {
     "name": "stderr",
     "output_type": "stream",
     "text": [
      "100%|██████████| 100/100 [00:01<00:00, 51.31it/s]\n"
     ]
    }
   ],
   "source": [
    "for i in trange(100):\n",
    "    obs, reward, done, info = env.step({k: np.array([0,0]) for k in obs})\n",
    "    if any(done.values()):\n",
    "        print(i)\n",
    "        break"
   ]
  },
  {
   "cell_type": "code",
   "execution_count": 12,
   "metadata": {},
   "outputs": [
    {
     "data": {
      "text/plain": [
       "{}"
      ]
     },
     "execution_count": 12,
     "metadata": {},
     "output_type": "execute_result"
    }
   ],
   "source": [
    "info['final_rewards']"
   ]
  },
  {
   "cell_type": "code",
   "execution_count": 8,
   "metadata": {},
   "outputs": [
    {
     "data": {
      "text/plain": [
       "{'Person1?team=0&id=0': -0.00075821875,\n",
       " 'Person1?team=0&id=2': -0.00034565927,\n",
       " 'Person1?team=0&id=3': -0.0006519318,\n",
       " 'Person1?team=0&id=4': 0.00037364961,\n",
       " 'Person1?team=0&id=5': -0.0009979248,\n",
       " 'Person1?team=0&id=6': 0.0008830071,\n",
       " 'Person1?team=0&id=7': 1.7511846e-05,\n",
       " 'Person1?team=0&id=8': 0.00050115585,\n",
       " 'Person1?team=0&id=9': 0.00091967586,\n",
       " 'Person1?team=0&id=10': 0.0006469727,\n",
       " 'Person1?team=0&id=11': -0.0008678436,\n",
       " 'Person1?team=0&id=12': 0.0005352974,\n",
       " 'Person1?team=0&id=13': -0.0006877899,\n",
       " 'Person1?team=0&id=14': -0.0009116173,\n",
       " 'Person1?team=0&id=15': 0.0009799004,\n",
       " 'Person1?team=0&id=16': 5.903244e-05,\n",
       " 'Person1?team=0&id=17': -0.0006214142,\n",
       " 'Person1?team=0&id=18': -0.0008737564,\n",
       " 'Person1?team=0&id=19': 0.00035648348,\n",
       " 'Person1?team=0&id=20': 0.0009720802}"
      ]
     },
     "execution_count": 8,
     "metadata": {},
     "output_type": "execute_result"
    }
   ],
   "source": [
    "reward"
   ]
  },
  {
   "cell_type": "code",
   "execution_count": 13,
   "metadata": {},
   "outputs": [
    {
     "data": {
      "text/plain": [
       "array([ 0,  2,  3,  4,  5,  6,  7,  8,  9, 10, 11, 12, 13, 14, 15, 16, 17,\n",
       "       18, 19, 20], dtype=int32)"
      ]
     },
     "execution_count": 13,
     "metadata": {},
     "output_type": "execute_result"
    }
   ],
   "source": [
    "env.unity.get_steps(\"Person1?team=0\")[0].agent_id"
   ]
  },
  {
   "cell_type": "code",
   "execution_count": 4,
   "metadata": {},
   "outputs": [
    {
     "name": "stderr",
     "output_type": "stream",
     "text": [
      "100%|██████████| 499/499 [00:11<00:00, 44.81it/s]\n"
     ]
    }
   ],
   "source": [
    "for i in trange(499):\n",
    "    obs, reward, done, info = env.step({k: np.array([1, 1]) for k in obs})"
   ]
  },
  {
   "cell_type": "code",
   "execution_count": null,
   "metadata": {},
   "outputs": [
    {
     "name": "stdout",
     "output_type": "stream",
     "text": [
      "> \u001b[0;32m/Users/redtachyon/projects/CrowdAI/training/envs/unity_envs.py\u001b[0m(94)\u001b[0;36m_get_step_info\u001b[0;34m()\u001b[0m\n",
      "\u001b[0;32m     92 \u001b[0;31m            \u001b[0;32mfor\u001b[0m \u001b[0midx\u001b[0m \u001b[0;32min\u001b[0m \u001b[0mterminals\u001b[0m\u001b[0;34m.\u001b[0m\u001b[0magent_id\u001b[0m\u001b[0;34m:\u001b[0m\u001b[0;34m\u001b[0m\u001b[0;34m\u001b[0m\u001b[0m\n",
      "\u001b[0m\u001b[0;32m     93 \u001b[0;31m                \u001b[0mbreakpoint\u001b[0m\u001b[0;34m(\u001b[0m\u001b[0;34m)\u001b[0m\u001b[0;34m\u001b[0m\u001b[0;34m\u001b[0m\u001b[0m\n",
      "\u001b[0m\u001b[0;32m---> 94 \u001b[0;31m                \u001b[0magent_name\u001b[0m \u001b[0;34m=\u001b[0m \u001b[0;34mf\"{name}&id={idx}\"\u001b[0m\u001b[0;34m\u001b[0m\u001b[0;34m\u001b[0m\u001b[0m\n",
      "\u001b[0m\u001b[0;32m     95 \u001b[0;31m                \u001b[0mobs_dict\u001b[0m\u001b[0;34m[\u001b[0m\u001b[0magent_name\u001b[0m\u001b[0;34m]\u001b[0m \u001b[0;34m=\u001b[0m \u001b[0mnp\u001b[0m\u001b[0;34m.\u001b[0m\u001b[0mconcatenate\u001b[0m\u001b[0;34m(\u001b[0m\u001b[0;34m[\u001b[0m\u001b[0mo\u001b[0m\u001b[0;34m[\u001b[0m\u001b[0mter_ids\u001b[0m\u001b[0;34m.\u001b[0m\u001b[0mindex\u001b[0m\u001b[0;34m(\u001b[0m\u001b[0midx\u001b[0m\u001b[0;34m)\u001b[0m\u001b[0;34m]\u001b[0m \u001b[0;32mfor\u001b[0m \u001b[0mo\u001b[0m \u001b[0;32min\u001b[0m \u001b[0mter_obs\u001b[0m\u001b[0;34m]\u001b[0m\u001b[0;34m)\u001b[0m\u001b[0;34m\u001b[0m\u001b[0;34m\u001b[0m\u001b[0m\n",
      "\u001b[0m\u001b[0;32m     96 \u001b[0;31m                \u001b[0mreward_dict\u001b[0m\u001b[0;34m[\u001b[0m\u001b[0magent_name\u001b[0m\u001b[0;34m]\u001b[0m \u001b[0;34m=\u001b[0m \u001b[0mterminals\u001b[0m\u001b[0;34m.\u001b[0m\u001b[0mreward\u001b[0m\u001b[0;34m[\u001b[0m\u001b[0mter_ids\u001b[0m\u001b[0;34m.\u001b[0m\u001b[0mindex\u001b[0m\u001b[0;34m(\u001b[0m\u001b[0midx\u001b[0m\u001b[0;34m)\u001b[0m\u001b[0;34m]\u001b[0m\u001b[0;34m\u001b[0m\u001b[0;34m\u001b[0m\u001b[0m\n",
      "\u001b[0m\n"
     ]
    },
    {
     "name": "stdin",
     "output_type": "stream",
     "text": [
      "ipdb>  terminals.agent_id\n"
     ]
    },
    {
     "name": "stdout",
     "output_type": "stream",
     "text": [
      "array([ 0,  2,  3,  4,  5,  6,  7,  8,  9, 10, 11, 12, 13, 14, 15, 16, 17,\n",
      "       18, 19, 20], dtype=int32)\n"
     ]
    },
    {
     "name": "stdin",
     "output_type": "stream",
     "text": [
      "ipdb>  decisions.agent_id\n"
     ]
    },
    {
     "name": "stdout",
     "output_type": "stream",
     "text": [
      "array([ 0,  2,  3,  4,  5,  6,  7,  8,  9, 10, 11, 12, 13, 14, 15, 16, 17,\n",
      "       18, 19, 20], dtype=int32)\n"
     ]
    },
    {
     "name": "stdin",
     "output_type": "stream",
     "text": [
      "ipdb>  00\n"
     ]
    },
    {
     "name": "stdout",
     "output_type": "stream",
     "text": [
      "0\n"
     ]
    }
   ],
   "source": [
    "obs, reward, done, info = env.step({})"
   ]
  },
  {
   "cell_type": "code",
   "execution_count": 40,
   "metadata": {},
   "outputs": [
    {
     "data": {
      "text/plain": [
       "{'Person1?team=0&id=0': False,\n",
       " 'Person1?team=0&id=2': False,\n",
       " 'Person1?team=0&id=3': False,\n",
       " 'Person1?team=0&id=4': False,\n",
       " 'Person1?team=0&id=5': False,\n",
       " 'Person1?team=0&id=6': False,\n",
       " 'Person1?team=0&id=7': False,\n",
       " 'Person1?team=0&id=8': False,\n",
       " 'Person1?team=0&id=9': False,\n",
       " 'Person1?team=0&id=10': False,\n",
       " 'Person1?team=0&id=11': False,\n",
       " 'Person1?team=0&id=12': False,\n",
       " 'Person1?team=0&id=13': False,\n",
       " 'Person1?team=0&id=14': False,\n",
       " 'Person1?team=0&id=15': False,\n",
       " 'Person1?team=0&id=16': False,\n",
       " 'Person1?team=0&id=17': False,\n",
       " 'Person1?team=0&id=18': False,\n",
       " 'Person1?team=0&id=19': False,\n",
       " 'Person1?team=0&id=20': False,\n",
       " '__all__': False}"
      ]
     },
     "execution_count": 40,
     "metadata": {},
     "output_type": "execute_result"
    }
   ],
   "source": [
    "done"
   ]
  }
 ],
 "metadata": {
  "kernelspec": {
   "display_name": "Poetry 3.8 (MARL)",
   "language": "python",
   "name": "marl"
  },
  "language_info": {
   "codemirror_mode": {
    "name": "ipython",
    "version": 3
   },
   "file_extension": ".py",
   "mimetype": "text/x-python",
   "name": "python",
   "nbconvert_exporter": "python",
   "pygments_lexer": "ipython3",
   "version": "3.8.3"
  }
 },
 "nbformat": 4,
 "nbformat_minor": 5
}
