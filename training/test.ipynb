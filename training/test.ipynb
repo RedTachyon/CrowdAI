{
 "cells": [
  {
   "cell_type": "code",
   "execution_count": 1,
   "metadata": {
    "collapsed": true
   },
   "outputs": [],
   "source": [
    "\n",
    "from typing import Sequence\n",
    "\n",
    "import torch\n",
    "import numpy as np\n",
    "from models import MLPModel, FancyMLPModel\n",
    "from agents import Agent\n",
    "from collectors import Memory, CrowdCollector\n",
    "from environments import UnityCrowdEnv, UnitySimpleCrowdEnv\n",
    "from policy_optimization import CrowdPPOptimizer\n",
    "from trainers import PPOCrowdTrainer\n",
    "\n",
    "from tqdm import tqdm, trange\n",
    "from mlagents_envs.environment import UnityEnvironment\n",
    "\n",
    "from utils import transpose_batch, concat_batches, concat_crowd_batch, tanh_norm, atanh_unnorm\n",
    "\n",
    "from mlagents_envs.side_channel.engine_configuration_channel import EngineConfigurationChannel\n",
    "\n",
    "import seaborn as sns\n",
    "import matplotlib.pyplot as plt\n",
    "\n",
    "from utils import discount_rewards_to_go, get_episode_lens"
   ]
  },
  {
   "cell_type": "code",
   "execution_count": 2,
   "outputs": [
    {
     "name": "stderr",
     "output_type": "stream",
     "text": [
      "WARNING: The communication API versions between Unity and python differ at the minor version level. Python API: 1.2.0, Unity API: 1.0.\n",
      "This means that some features may not work unless you upgrade the package with the lower version.Please find the versions that work best together from our release page.\n",
      "https://github.com/Unity-Technologies/ml-agents/releases\n"
     ]
    }
   ],
   "source": [
    "\n",
    "env = UnitySimpleCrowdEnv(file_name=None)\n",
    "\n",
    "\n",
    "\n",
    "\n",
    "env.engine_channel.set_configuration_parameters(time_scale=100)"
   ],
   "metadata": {
    "collapsed": false,
    "pycharm": {
     "name": "#%%\n"
    }
   }
  },
  {
   "cell_type": "code",
   "execution_count": 3,
   "outputs": [],
   "source": [
    "action_range = (\n",
    "    torch.tensor([-.3, -1.]),\n",
    "    torch.tensor([ 1.,  1.])\n",
    ")"
   ],
   "metadata": {
    "collapsed": false,
    "pycharm": {
     "name": "#%%\n"
    }
   }
  },
  {
   "cell_type": "code",
   "execution_count": 4,
   "outputs": [],
   "source": [
    "model = MLPModel({\n",
    "    \"input_size\": 94,\n",
    "})\n",
    "\n",
    "agent = Agent(model, action_range=action_range)"
   ],
   "metadata": {
    "collapsed": false,
    "pycharm": {
     "name": "#%%\n"
    }
   }
  },
  {
   "cell_type": "code",
   "execution_count": 5,
   "outputs": [],
   "source": [
    "collector = CrowdCollector(agent, env)"
   ],
   "metadata": {
    "collapsed": false,
    "pycharm": {
     "name": "#%%\n"
    }
   }
  },
  {
   "cell_type": "code",
   "execution_count": 6,
   "outputs": [
    {
     "name": "stderr",
     "output_type": "stream",
     "text": [
      "  0%|          | 0/500 [00:00<?, ?it/s]/Users/redtachyon/projects/CrowdAI/training/utils.py:432: VisibleDeprecationWarning: Creating an ndarray from ragged nested sequences (which is a list-or-tuple of lists-or-tuples-or ndarrays with different lengths or shapes) is deprecated. If you meant to do this, you must specify 'dtype=object' when creating the ndarray\n",
      "  values = np.array([value_dict[key] for key in keys])\n",
      "  0%|          | 0/500 [00:00<?, ?it/s]\n"
     ]
    },
    {
     "ename": "TypeError",
     "evalue": "can't convert np.ndarray of type numpy.object_. The only supported types are: float64, float32, float16, complex64, complex128, int64, int32, int16, int8, uint8, and bool.",
     "output_type": "error",
     "traceback": [
      "\u001B[0;31m---------------------------------------------------------------------------\u001B[0m",
      "\u001B[0;31mTypeError\u001B[0m                                 Traceback (most recent call last)",
      "\u001B[0;32m<ipython-input-6-7447dc77a0cb>\u001B[0m in \u001B[0;36m<module>\u001B[0;34m\u001B[0m\n\u001B[0;32m----> 1\u001B[0;31m \u001B[0mbatch\u001B[0m \u001B[0;34m=\u001B[0m \u001B[0mcollector\u001B[0m\u001B[0;34m.\u001B[0m\u001B[0mcollect_data\u001B[0m\u001B[0;34m(\u001B[0m\u001B[0;36m500\u001B[0m\u001B[0;34m,\u001B[0m \u001B[0mdisable_tqdm\u001B[0m\u001B[0;34m=\u001B[0m\u001B[0;32mFalse\u001B[0m\u001B[0;34m)\u001B[0m\u001B[0;34m\u001B[0m\u001B[0;34m\u001B[0m\u001B[0m\n\u001B[0m\u001B[1;32m      2\u001B[0m \u001B[0;34m\u001B[0m\u001B[0m\n",
      "\u001B[0;32m~/projects/CrowdAI/training/collectors.py\u001B[0m in \u001B[0;36mcollect_data\u001B[0;34m(self, num_steps, deterministic, disable_tqdm, reset_memory, include_last, reset_start)\u001B[0m\n\u001B[1;32m    198\u001B[0m \u001B[0;34m\u001B[0m\u001B[0m\n\u001B[1;32m    199\u001B[0m             \u001B[0mobs_array\u001B[0m\u001B[0;34m,\u001B[0m \u001B[0magent_keys\u001B[0m \u001B[0;34m=\u001B[0m \u001B[0mpack\u001B[0m\u001B[0;34m(\u001B[0m\u001B[0mobs_dict\u001B[0m\u001B[0;34m)\u001B[0m\u001B[0;34m\u001B[0m\u001B[0;34m\u001B[0m\u001B[0m\n\u001B[0;32m--> 200\u001B[0;31m             \u001B[0mobs_tensor\u001B[0m \u001B[0;34m=\u001B[0m \u001B[0mtorch\u001B[0m\u001B[0;34m.\u001B[0m\u001B[0mtensor\u001B[0m\u001B[0;34m(\u001B[0m\u001B[0mobs_array\u001B[0m\u001B[0;34m)\u001B[0m\u001B[0;34m\u001B[0m\u001B[0;34m\u001B[0m\u001B[0m\n\u001B[0m\u001B[1;32m    201\u001B[0m \u001B[0;34m\u001B[0m\u001B[0m\n\u001B[1;32m    202\u001B[0m             \u001B[0;31m# Centralize the action computation for better parallelization\u001B[0m\u001B[0;34m\u001B[0m\u001B[0;34m\u001B[0m\u001B[0;34m\u001B[0m\u001B[0m\n",
      "\u001B[0;31mTypeError\u001B[0m: can't convert np.ndarray of type numpy.object_. The only supported types are: float64, float32, float16, complex64, complex128, int64, int32, int16, int8, uint8, and bool."
     ]
    }
   ],
   "source": [
    "batch = collector.collect_data(500, disable_tqdm=False)"
   ],
   "metadata": {
    "collapsed": false,
    "pycharm": {
     "name": "#%%\n"
    }
   }
  },
  {
   "cell_type": "code",
   "execution_count": 7,
   "outputs": [
    {
     "name": "stdout",
     "output_type": "stream",
     "text": [
      "> \u001B[0;32m/Users/redtachyon/projects/CrowdAI/training/collectors.py\u001B[0m(200)\u001B[0;36mcollect_data\u001B[0;34m()\u001B[0m\n",
      "\u001B[0;32m    198 \u001B[0;31m\u001B[0;34m\u001B[0m\u001B[0m\n",
      "\u001B[0m\u001B[0;32m    199 \u001B[0;31m            \u001B[0mobs_array\u001B[0m\u001B[0;34m,\u001B[0m \u001B[0magent_keys\u001B[0m \u001B[0;34m=\u001B[0m \u001B[0mpack\u001B[0m\u001B[0;34m(\u001B[0m\u001B[0mobs_dict\u001B[0m\u001B[0;34m)\u001B[0m\u001B[0;34m\u001B[0m\u001B[0;34m\u001B[0m\u001B[0m\n",
      "\u001B[0m\u001B[0;32m--> 200 \u001B[0;31m            \u001B[0mobs_tensor\u001B[0m \u001B[0;34m=\u001B[0m \u001B[0mtorch\u001B[0m\u001B[0;34m.\u001B[0m\u001B[0mtensor\u001B[0m\u001B[0;34m(\u001B[0m\u001B[0mobs_array\u001B[0m\u001B[0;34m)\u001B[0m\u001B[0;34m\u001B[0m\u001B[0;34m\u001B[0m\u001B[0m\n",
      "\u001B[0m\u001B[0;32m    201 \u001B[0;31m\u001B[0;34m\u001B[0m\u001B[0m\n",
      "\u001B[0m\u001B[0;32m    202 \u001B[0;31m            \u001B[0;31m# Centralize the action computation for better parallelization\u001B[0m\u001B[0;34m\u001B[0m\u001B[0;34m\u001B[0m\u001B[0;34m\u001B[0m\u001B[0m\n",
      "\u001B[0m\n",
      "array([array([ 0.        ,  0.        ,  1.        ,  1.        ,  0.        ,\n",
      "        0.        ,  1.        ,  1.        ,  0.        ,  0.        ,\n",
      "        1.        ,  1.        ,  0.        ,  0.        ,  1.        ,\n",
      "        1.        ,  0.        ,  0.        ,  1.        ,  1.        ,\n",
      "        0.        ,  0.        ,  1.        ,  1.        ,  0.        ,\n",
      "        0.        ,  1.        ,  1.        ,  0.        ,  0.        ,\n",
      "        1.        ,  1.        ,  0.        ,  0.        ,  1.        ,\n",
      "        1.        ,  0.        ,  0.        ,  1.        ,  1.        ,\n",
      "        0.        ,  0.        ,  1.        ,  1.        ,  0.        ,\n",
      "        0.        ,  1.        ,  1.        ,  0.        ,  0.        ,\n",
      "        1.        ,  1.        ,  0.        ,  0.        ,  1.        ,\n",
      "        1.        ,  0.        ,  0.        ,  1.        ,  1.        ,\n",
      "        0.        ,  1.        ,  0.        ,  0.22929291,  0.        ,\n",
      "        0.        ,  1.        ,  1.        ,  0.        ,  1.        ,\n",
      "        0.        ,  0.22915259,  0.        ,  0.        ,  1.        ,\n",
      "        1.        ,  0.        ,  0.        ,  1.        ,  1.        ,\n",
      "        0.        ,  0.        ,  1.        ,  1.        ,  0.        ,\n",
      "        0.058     ,  0.5       ,  0.        , -0.825     ,  0.        ,\n",
      "        0.883     ,  0.        ,  0.        ,  1.        ], dtype=float32),\n",
      "       array([ 0.0000000e+00,  0.0000000e+00,  0.0000000e+00,  0.0000000e+00,\n",
      "        0.0000000e+00,  1.0000000e+00,  1.0000000e+00,  0.0000000e+00,\n",
      "        0.0000000e+00,  1.0000000e+00,  1.0000000e+00,  0.0000000e+00,\n",
      "        0.0000000e+00,  1.0000000e+00,  1.0000000e+00,  0.0000000e+00,\n",
      "        0.0000000e+00,  1.0000000e+00,  1.0000000e+00,  0.0000000e+00,\n",
      "        0.0000000e+00,  1.0000000e+00,  1.0000000e+00,  0.0000000e+00,\n",
      "        0.0000000e+00,  1.0000000e+00,  1.0000000e+00,  0.0000000e+00,\n",
      "        1.0000000e+00,  0.0000000e+00,  2.2915256e-01,  0.0000000e+00,\n",
      "        0.0000000e+00,  1.0000000e+00,  1.0000000e+00,  0.0000000e+00,\n",
      "        1.0000000e+00,  0.0000000e+00,  2.2929290e-01,  0.0000000e+00,\n",
      "        0.0000000e+00,  1.0000000e+00,  1.0000000e+00,  0.0000000e+00,\n",
      "        0.0000000e+00,  1.0000000e+00,  1.0000000e+00,  0.0000000e+00,\n",
      "        0.0000000e+00,  1.0000000e+00,  1.0000000e+00,  0.0000000e+00,\n",
      "        0.0000000e+00,  1.0000000e+00,  1.0000000e+00,  0.0000000e+00,\n",
      "        0.0000000e+00,  1.0000000e+00,  1.0000000e+00,  0.0000000e+00,\n",
      "        0.0000000e+00,  1.0000000e+00,  1.0000000e+00,  0.0000000e+00,\n",
      "        0.0000000e+00,  1.0000000e+00,  1.0000000e+00,  0.0000000e+00,\n",
      "        0.0000000e+00,  1.0000000e+00,  1.0000000e+00,  0.0000000e+00,\n",
      "        0.0000000e+00,  1.0000000e+00,  1.0000000e+00,  0.0000000e+00,\n",
      "        0.0000000e+00,  1.0000000e+00,  1.0000000e+00,  0.0000000e+00,\n",
      "        0.0000000e+00,  1.0000000e+00,  1.0000000e+00,  0.0000000e+00,\n",
      "        0.0000000e+00,  1.0000000e+00,  1.0000000e+00, -1.1799999e-01,\n",
      "       -0.0000000e+00,  2.5000000e-01,  8.2499999e-01,  0.0000000e+00,\n",
      "       -1.1241436e-07,  9.4300014e-01,  0.0000000e+00,  0.0000000e+00,\n",
      "        1.0000000e+00], dtype=float32)], dtype=object)\n",
      "array([array([ 0.        ,  0.        ,  1.        ,  1.        ,  0.        ,\n",
      "        0.        ,  1.        ,  1.        ,  0.        ,  0.        ,\n",
      "        1.        ,  1.        ,  0.        ,  0.        ,  1.        ,\n",
      "        1.        ,  0.        ,  0.        ,  1.        ,  1.        ,\n",
      "        0.        ,  0.        ,  1.        ,  1.        ,  0.        ,\n",
      "        0.        ,  1.        ,  1.        ,  0.        ,  0.        ,\n",
      "        1.        ,  1.        ,  0.        ,  0.        ,  1.        ,\n",
      "        1.        ,  0.        ,  0.        ,  1.        ,  1.        ,\n",
      "        0.        ,  0.        ,  1.        ,  1.        ,  0.        ,\n",
      "        0.        ,  1.        ,  1.        ,  0.        ,  0.        ,\n",
      "        1.        ,  1.        ,  0.        ,  0.        ,  1.        ,\n",
      "        1.        ,  0.        ,  0.        ,  1.        ,  1.        ,\n",
      "        0.        ,  1.        ,  0.        ,  0.22929291,  0.        ,\n",
      "        0.        ,  1.        ,  1.        ,  0.        ,  1.        ,\n",
      "        0.        ,  0.22915259,  0.        ,  0.        ,  1.        ,\n",
      "        1.        ,  0.        ,  0.        ,  1.        ,  1.        ,\n",
      "        0.        ,  0.        ,  1.        ,  1.        ,  0.        ,\n",
      "        0.058     ,  0.5       ,  0.        , -0.825     ,  0.        ,\n",
      "        0.883     ,  0.        ,  0.        ,  1.        ], dtype=float32),\n",
      "       array([ 0.0000000e+00,  0.0000000e+00,  0.0000000e+00,  0.0000000e+00,\n",
      "        0.0000000e+00,  1.0000000e+00,  1.0000000e+00,  0.0000000e+00,\n",
      "        0.0000000e+00,  1.0000000e+00,  1.0000000e+00,  0.0000000e+00,\n",
      "        0.0000000e+00,  1.0000000e+00,  1.0000000e+00,  0.0000000e+00,\n",
      "        0.0000000e+00,  1.0000000e+00,  1.0000000e+00,  0.0000000e+00,\n",
      "        0.0000000e+00,  1.0000000e+00,  1.0000000e+00,  0.0000000e+00,\n",
      "        0.0000000e+00,  1.0000000e+00,  1.0000000e+00,  0.0000000e+00,\n",
      "        1.0000000e+00,  0.0000000e+00,  2.2915256e-01,  0.0000000e+00,\n",
      "        0.0000000e+00,  1.0000000e+00,  1.0000000e+00,  0.0000000e+00,\n",
      "        1.0000000e+00,  0.0000000e+00,  2.2929290e-01,  0.0000000e+00,\n",
      "        0.0000000e+00,  1.0000000e+00,  1.0000000e+00,  0.0000000e+00,\n",
      "        0.0000000e+00,  1.0000000e+00,  1.0000000e+00,  0.0000000e+00,\n",
      "        0.0000000e+00,  1.0000000e+00,  1.0000000e+00,  0.0000000e+00,\n",
      "        0.0000000e+00,  1.0000000e+00,  1.0000000e+00,  0.0000000e+00,\n",
      "        0.0000000e+00,  1.0000000e+00,  1.0000000e+00,  0.0000000e+00,\n",
      "        0.0000000e+00,  1.0000000e+00,  1.0000000e+00,  0.0000000e+00,\n",
      "        0.0000000e+00,  1.0000000e+00,  1.0000000e+00,  0.0000000e+00,\n",
      "        0.0000000e+00,  1.0000000e+00,  1.0000000e+00,  0.0000000e+00,\n",
      "        0.0000000e+00,  1.0000000e+00,  1.0000000e+00,  0.0000000e+00,\n",
      "        0.0000000e+00,  1.0000000e+00,  1.0000000e+00,  0.0000000e+00,\n",
      "        0.0000000e+00,  1.0000000e+00,  1.0000000e+00,  0.0000000e+00,\n",
      "        0.0000000e+00,  1.0000000e+00,  1.0000000e+00, -1.1799999e-01,\n",
      "       -0.0000000e+00,  2.5000000e-01,  8.2499999e-01,  0.0000000e+00,\n",
      "       -1.1241436e-07,  9.4300014e-01,  0.0000000e+00,  0.0000000e+00,\n",
      "        1.0000000e+00], dtype=float32)], dtype=object)\n",
      "(2,)\n",
      "(2,)\n",
      "(2,)\n",
      "(2,)\n"
     ]
    }
   ],
   "source": [
    "import pdb; pdb.pm()"
   ],
   "metadata": {
    "collapsed": false,
    "pycharm": {
     "name": "#%%\n"
    }
   }
  },
  {
   "cell_type": "code",
   "execution_count": 9,
   "outputs": [],
   "source": [
    "env.close()"
   ],
   "metadata": {
    "collapsed": false,
    "pycharm": {
     "name": "#%%\n"
    }
   }
  }
 ],
 "metadata": {
  "kernelspec": {
   "display_name": "Python 3",
   "language": "python",
   "name": "python3"
  },
  "language_info": {
   "codemirror_mode": {
    "name": "ipython",
    "version": 2
   },
   "file_extension": ".py",
   "mimetype": "text/x-python",
   "name": "python",
   "nbconvert_exporter": "python",
   "pygments_lexer": "ipython2",
   "version": "2.7.6"
  }
 },
 "nbformat": 4,
 "nbformat_minor": 0
}