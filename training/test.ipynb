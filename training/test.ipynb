{
 "cells": [
  {
   "cell_type": "code",
   "execution_count": 1,
   "metadata": {
    "collapsed": true
   },
   "outputs": [],
   "source": [
    "\n",
    "from typing import Sequence\n",
    "\n",
    "import torch\n",
    "import numpy as np\n",
    "from models import MLPModel, FancyMLPModel\n",
    "from agents import Agent\n",
    "from collectors import Memory, CrowdCollector\n",
    "from environments import UnityCrowdEnv, UnitySimpleCrowdEnv\n",
    "from policy_optimization import CrowdPPOptimizer\n",
    "from trainers import PPOCrowdTrainer\n",
    "\n",
    "from tqdm import tqdm, trange\n",
    "from mlagents_envs.environment import UnityEnvironment\n",
    "\n",
    "from utils import transpose_batch, concat_batches, concat_crowd_batch, tanh_norm, atanh_unnorm\n",
    "\n",
    "from mlagents_envs.side_channel.engine_configuration_channel import EngineConfigurationChannel\n",
    "\n",
    "import seaborn as sns\n",
    "import matplotlib.pyplot as plt\n",
    "\n",
    "from utils import discount_rewards_to_go, get_episode_lens"
   ]
  },
  {
   "cell_type": "code",
   "execution_count": 2,
   "outputs": [
    {
     "name": "stderr",
     "output_type": "stream",
     "text": [
      "WARNING: The communication API versions between Unity and python differ at the minor version level. Python API: 1.2.0, Unity API: 1.0.\n",
      "This means that some features may not work unless you upgrade the package with the lower version.Please find the versions that work best together from our release page.\n",
      "https://github.com/Unity-Technologies/ml-agents/releases\n"
     ]
    }
   ],
   "source": [
    "\n",
    "env = UnitySimpleCrowdEnv(file_name=None)\n",
    "\n",
    "\n",
    "\n",
    "\n",
    "env.engine_channel.set_configuration_parameters(time_scale=100)"
   ],
   "metadata": {
    "collapsed": false,
    "pycharm": {
     "name": "#%%\n"
    }
   }
  },
  {
   "cell_type": "code",
   "execution_count": 3,
   "outputs": [],
   "source": [
    "action_range = (\n",
    "    torch.tensor([-.3, -1.]),\n",
    "    torch.tensor([ 1.,  1.])\n",
    ")"
   ],
   "metadata": {
    "collapsed": false,
    "pycharm": {
     "name": "#%%\n"
    }
   }
  },
  {
   "cell_type": "code",
   "execution_count": 4,
   "outputs": [],
   "source": [
    "model = FancyMLPModel({\n",
    "    \"input_size\": 94,\n",
    "})\n",
    "\n",
    "agent = Agent(model, action_range=action_range)"
   ],
   "metadata": {
    "collapsed": false,
    "pycharm": {
     "name": "#%%\n"
    }
   }
  },
  {
   "cell_type": "code",
   "execution_count": 3,
   "outputs": [],
   "source": [
    "obs = env.reset()"
   ],
   "metadata": {
    "collapsed": false,
    "pycharm": {
     "name": "#%%\n"
    }
   }
  },
  {
   "cell_type": "code",
   "execution_count": 8,
   "outputs": [
    {
     "data": {
      "text/plain": "array([1000000., 1000000., 1000000., 1000000., 1000000., 1000000.,\n       1000000., 1000000., 1000000., 1000000., 1000000., 1000000.,\n       1000000., 1000000., 1000000., 1000000., 1000000., 1000000.,\n       1000000., 1000000.], dtype=float32)"
     },
     "execution_count": 8,
     "metadata": {},
     "output_type": "execute_result"
    }
   ],
   "source": [
    "obs['Person1?team=0&id=1'][:20]"
   ],
   "metadata": {
    "collapsed": false,
    "pycharm": {
     "name": "#%%\n"
    }
   }
  },
  {
   "cell_type": "code",
   "execution_count": 5,
   "outputs": [],
   "source": [
    "collector = CrowdCollector(agent, env)"
   ],
   "metadata": {
    "collapsed": false,
    "pycharm": {
     "name": "#%%\n"
    }
   }
  },
  {
   "cell_type": "code",
   "execution_count": 6,
   "outputs": [
    {
     "name": "stderr",
     "output_type": "stream",
     "text": [
      "100%|██████████| 100/100 [00:01<00:00, 54.05it/s]\n"
     ]
    }
   ],
   "source": [
    "batch, metrics = collector.collect_data(100, disable_tqdm=False)"
   ],
   "metadata": {
    "collapsed": false,
    "pycharm": {
     "name": "#%%\n"
    }
   }
  },
  {
   "cell_type": "code",
   "execution_count": 13,
   "outputs": [],
   "source": [
    "evals = agent.evaluate_actions(concat_crowd_batch(batch))"
   ],
   "metadata": {
    "collapsed": false,
    "pycharm": {
     "name": "#%%\n"
    }
   }
  },
  {
   "cell_type": "code",
   "execution_count": 14,
   "outputs": [
    {
     "data": {
      "text/plain": "(tensor([-2.0285, -3.4034, -1.9741,  ..., -1.0643, -0.5024, -1.6161],\n        grad_fn=<SumBackward1>),\n tensor([-0.6255, -1.1358, -0.8687,  ...,  0.1529, -0.0524, -0.0520],\n        grad_fn=<ViewBackward>),\n tensor([2.5236, 2.5276, 2.8892,  ..., 1.3751, 1.3518, 1.3419],\n        grad_fn=<SumBackward1>))"
     },
     "execution_count": 14,
     "metadata": {},
     "output_type": "execute_result"
    }
   ],
   "source": [
    "evals"
   ],
   "metadata": {
    "collapsed": false,
    "pycharm": {
     "name": "#%%\n"
    }
   }
  },
  {
   "cell_type": "code",
   "execution_count": 7,
   "outputs": [
    {
     "name": "stdout",
     "output_type": "stream",
     "text": [
      "> \u001B[0;32m/Users/redtachyon/projects/CrowdAI/training/collectors.py\u001B[0m(200)\u001B[0;36mcollect_data\u001B[0;34m()\u001B[0m\n",
      "\u001B[0;32m    198 \u001B[0;31m\u001B[0;34m\u001B[0m\u001B[0m\n",
      "\u001B[0m\u001B[0;32m    199 \u001B[0;31m            \u001B[0mobs_array\u001B[0m\u001B[0;34m,\u001B[0m \u001B[0magent_keys\u001B[0m \u001B[0;34m=\u001B[0m \u001B[0mpack\u001B[0m\u001B[0;34m(\u001B[0m\u001B[0mobs_dict\u001B[0m\u001B[0;34m)\u001B[0m\u001B[0;34m\u001B[0m\u001B[0;34m\u001B[0m\u001B[0m\n",
      "\u001B[0m\u001B[0;32m--> 200 \u001B[0;31m            \u001B[0mobs_tensor\u001B[0m \u001B[0;34m=\u001B[0m \u001B[0mtorch\u001B[0m\u001B[0;34m.\u001B[0m\u001B[0mtensor\u001B[0m\u001B[0;34m(\u001B[0m\u001B[0mobs_array\u001B[0m\u001B[0;34m)\u001B[0m\u001B[0;34m\u001B[0m\u001B[0;34m\u001B[0m\u001B[0m\n",
      "\u001B[0m\u001B[0;32m    201 \u001B[0;31m\u001B[0;34m\u001B[0m\u001B[0m\n",
      "\u001B[0m\u001B[0;32m    202 \u001B[0;31m            \u001B[0;31m# Centralize the action computation for better parallelization\u001B[0m\u001B[0;34m\u001B[0m\u001B[0;34m\u001B[0m\u001B[0;34m\u001B[0m\u001B[0m\n",
      "\u001B[0m\n",
      "array([array([ 0.        ,  0.        ,  1.        ,  1.        ,  0.        ,\n",
      "        0.        ,  1.        ,  1.        ,  0.        ,  0.        ,\n",
      "        1.        ,  1.        ,  0.        ,  0.        ,  1.        ,\n",
      "        1.        ,  0.        ,  0.        ,  1.        ,  1.        ,\n",
      "        0.        ,  0.        ,  1.        ,  1.        ,  0.        ,\n",
      "        0.        ,  1.        ,  1.        ,  0.        ,  0.        ,\n",
      "        1.        ,  1.        ,  0.        ,  0.        ,  1.        ,\n",
      "        1.        ,  0.        ,  0.        ,  1.        ,  1.        ,\n",
      "        0.        ,  0.        ,  1.        ,  1.        ,  0.        ,\n",
      "        0.        ,  1.        ,  1.        ,  0.        ,  0.        ,\n",
      "        1.        ,  1.        ,  0.        ,  0.        ,  1.        ,\n",
      "        1.        ,  0.        ,  0.        ,  1.        ,  1.        ,\n",
      "        0.        ,  1.        ,  0.        ,  0.22929291,  0.        ,\n",
      "        0.        ,  1.        ,  1.        ,  0.        ,  1.        ,\n",
      "        0.        ,  0.22915259,  0.        ,  0.        ,  1.        ,\n",
      "        1.        ,  0.        ,  0.        ,  1.        ,  1.        ,\n",
      "        0.        ,  0.        ,  1.        ,  1.        ,  0.        ,\n",
      "        0.058     ,  0.5       ,  0.        , -0.825     ,  0.        ,\n",
      "        0.883     ,  0.        ,  0.        ,  1.        ], dtype=float32),\n",
      "       array([ 0.0000000e+00,  0.0000000e+00,  0.0000000e+00,  0.0000000e+00,\n",
      "        0.0000000e+00,  1.0000000e+00,  1.0000000e+00,  0.0000000e+00,\n",
      "        0.0000000e+00,  1.0000000e+00,  1.0000000e+00,  0.0000000e+00,\n",
      "        0.0000000e+00,  1.0000000e+00,  1.0000000e+00,  0.0000000e+00,\n",
      "        0.0000000e+00,  1.0000000e+00,  1.0000000e+00,  0.0000000e+00,\n",
      "        0.0000000e+00,  1.0000000e+00,  1.0000000e+00,  0.0000000e+00,\n",
      "        0.0000000e+00,  1.0000000e+00,  1.0000000e+00,  0.0000000e+00,\n",
      "        1.0000000e+00,  0.0000000e+00,  2.2915256e-01,  0.0000000e+00,\n",
      "        0.0000000e+00,  1.0000000e+00,  1.0000000e+00,  0.0000000e+00,\n",
      "        1.0000000e+00,  0.0000000e+00,  2.2929290e-01,  0.0000000e+00,\n",
      "        0.0000000e+00,  1.0000000e+00,  1.0000000e+00,  0.0000000e+00,\n",
      "        0.0000000e+00,  1.0000000e+00,  1.0000000e+00,  0.0000000e+00,\n",
      "        0.0000000e+00,  1.0000000e+00,  1.0000000e+00,  0.0000000e+00,\n",
      "        0.0000000e+00,  1.0000000e+00,  1.0000000e+00,  0.0000000e+00,\n",
      "        0.0000000e+00,  1.0000000e+00,  1.0000000e+00,  0.0000000e+00,\n",
      "        0.0000000e+00,  1.0000000e+00,  1.0000000e+00,  0.0000000e+00,\n",
      "        0.0000000e+00,  1.0000000e+00,  1.0000000e+00,  0.0000000e+00,\n",
      "        0.0000000e+00,  1.0000000e+00,  1.0000000e+00,  0.0000000e+00,\n",
      "        0.0000000e+00,  1.0000000e+00,  1.0000000e+00,  0.0000000e+00,\n",
      "        0.0000000e+00,  1.0000000e+00,  1.0000000e+00,  0.0000000e+00,\n",
      "        0.0000000e+00,  1.0000000e+00,  1.0000000e+00,  0.0000000e+00,\n",
      "        0.0000000e+00,  1.0000000e+00,  1.0000000e+00, -1.1799999e-01,\n",
      "       -0.0000000e+00,  2.5000000e-01,  8.2499999e-01,  0.0000000e+00,\n",
      "       -1.1241436e-07,  9.4300014e-01,  0.0000000e+00,  0.0000000e+00,\n",
      "        1.0000000e+00], dtype=float32)], dtype=object)\n",
      "array([array([ 0.        ,  0.        ,  1.        ,  1.        ,  0.        ,\n",
      "        0.        ,  1.        ,  1.        ,  0.        ,  0.        ,\n",
      "        1.        ,  1.        ,  0.        ,  0.        ,  1.        ,\n",
      "        1.        ,  0.        ,  0.        ,  1.        ,  1.        ,\n",
      "        0.        ,  0.        ,  1.        ,  1.        ,  0.        ,\n",
      "        0.        ,  1.        ,  1.        ,  0.        ,  0.        ,\n",
      "        1.        ,  1.        ,  0.        ,  0.        ,  1.        ,\n",
      "        1.        ,  0.        ,  0.        ,  1.        ,  1.        ,\n",
      "        0.        ,  0.        ,  1.        ,  1.        ,  0.        ,\n",
      "        0.        ,  1.        ,  1.        ,  0.        ,  0.        ,\n",
      "        1.        ,  1.        ,  0.        ,  0.        ,  1.        ,\n",
      "        1.        ,  0.        ,  0.        ,  1.        ,  1.        ,\n",
      "        0.        ,  1.        ,  0.        ,  0.22929291,  0.        ,\n",
      "        0.        ,  1.        ,  1.        ,  0.        ,  1.        ,\n",
      "        0.        ,  0.22915259,  0.        ,  0.        ,  1.        ,\n",
      "        1.        ,  0.        ,  0.        ,  1.        ,  1.        ,\n",
      "        0.        ,  0.        ,  1.        ,  1.        ,  0.        ,\n",
      "        0.058     ,  0.5       ,  0.        , -0.825     ,  0.        ,\n",
      "        0.883     ,  0.        ,  0.        ,  1.        ], dtype=float32),\n",
      "       array([ 0.0000000e+00,  0.0000000e+00,  0.0000000e+00,  0.0000000e+00,\n",
      "        0.0000000e+00,  1.0000000e+00,  1.0000000e+00,  0.0000000e+00,\n",
      "        0.0000000e+00,  1.0000000e+00,  1.0000000e+00,  0.0000000e+00,\n",
      "        0.0000000e+00,  1.0000000e+00,  1.0000000e+00,  0.0000000e+00,\n",
      "        0.0000000e+00,  1.0000000e+00,  1.0000000e+00,  0.0000000e+00,\n",
      "        0.0000000e+00,  1.0000000e+00,  1.0000000e+00,  0.0000000e+00,\n",
      "        0.0000000e+00,  1.0000000e+00,  1.0000000e+00,  0.0000000e+00,\n",
      "        1.0000000e+00,  0.0000000e+00,  2.2915256e-01,  0.0000000e+00,\n",
      "        0.0000000e+00,  1.0000000e+00,  1.0000000e+00,  0.0000000e+00,\n",
      "        1.0000000e+00,  0.0000000e+00,  2.2929290e-01,  0.0000000e+00,\n",
      "        0.0000000e+00,  1.0000000e+00,  1.0000000e+00,  0.0000000e+00,\n",
      "        0.0000000e+00,  1.0000000e+00,  1.0000000e+00,  0.0000000e+00,\n",
      "        0.0000000e+00,  1.0000000e+00,  1.0000000e+00,  0.0000000e+00,\n",
      "        0.0000000e+00,  1.0000000e+00,  1.0000000e+00,  0.0000000e+00,\n",
      "        0.0000000e+00,  1.0000000e+00,  1.0000000e+00,  0.0000000e+00,\n",
      "        0.0000000e+00,  1.0000000e+00,  1.0000000e+00,  0.0000000e+00,\n",
      "        0.0000000e+00,  1.0000000e+00,  1.0000000e+00,  0.0000000e+00,\n",
      "        0.0000000e+00,  1.0000000e+00,  1.0000000e+00,  0.0000000e+00,\n",
      "        0.0000000e+00,  1.0000000e+00,  1.0000000e+00,  0.0000000e+00,\n",
      "        0.0000000e+00,  1.0000000e+00,  1.0000000e+00,  0.0000000e+00,\n",
      "        0.0000000e+00,  1.0000000e+00,  1.0000000e+00,  0.0000000e+00,\n",
      "        0.0000000e+00,  1.0000000e+00,  1.0000000e+00, -1.1799999e-01,\n",
      "       -0.0000000e+00,  2.5000000e-01,  8.2499999e-01,  0.0000000e+00,\n",
      "       -1.1241436e-07,  9.4300014e-01,  0.0000000e+00,  0.0000000e+00,\n",
      "        1.0000000e+00], dtype=float32)], dtype=object)\n",
      "(2,)\n",
      "(2,)\n",
      "(2,)\n",
      "(2,)\n"
     ]
    }
   ],
   "source": [
    "import pdb; pdb.pm()"
   ],
   "metadata": {
    "collapsed": false,
    "pycharm": {
     "name": "#%%\n"
    }
   }
  },
  {
   "cell_type": "code",
   "execution_count": 9,
   "outputs": [],
   "source": [
    "env.close()"
   ],
   "metadata": {
    "collapsed": false,
    "pycharm": {
     "name": "#%%\n"
    }
   }
  }
 ],
 "metadata": {
  "kernelspec": {
   "display_name": "Python 3",
   "language": "python",
   "name": "python3"
  },
  "language_info": {
   "codemirror_mode": {
    "name": "ipython",
    "version": 2
   },
   "file_extension": ".py",
   "mimetype": "text/x-python",
   "name": "python",
   "nbconvert_exporter": "python",
   "pygments_lexer": "ipython2",
   "version": "2.7.6"
  }
 },
 "nbformat": 4,
 "nbformat_minor": 0
}