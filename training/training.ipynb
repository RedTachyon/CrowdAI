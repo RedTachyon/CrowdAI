{
 "cells": [
  {
   "cell_type": "code",
   "execution_count": 1,
   "outputs": [],
   "source": [
    "from typing import Sequence\n",
    "\n",
    "import torch\n",
    "import numpy as np\n",
    "from models import MLPModel, FancyMLPModel\n",
    "from agents import Agent\n",
    "from collectors import Memory, CrowdCollector\n",
    "from environments import UnityCrowdEnv, UnitySimpleCrowdEnv\n",
    "from policy_optimization import CrowdPPOptimizer\n",
    "from trainers import PPOCrowdTrainer\n",
    "\n",
    "from tqdm import tqdm, trange\n",
    "from mlagents_envs.environment import UnityEnvironment\n",
    "\n",
    "from utils import transpose_batch, concat_batches, concat_crowd_batch, tanh_norm, atanh_unnorm\n",
    "\n",
    "from mlagents_envs.side_channel.engine_configuration_channel import EngineConfigurationChannel\n",
    "\n",
    "import seaborn as sns\n",
    "import matplotlib.pyplot as plt\n",
    "\n",
    "from utils import discount_rewards_to_go, get_episode_lens"
   ],
   "metadata": {
    "collapsed": false,
    "pycharm": {
     "name": "#%%\n"
    }
   }
  },
  {
   "cell_type": "code",
   "execution_count": 2,
   "outputs": [
    {
     "name": "stderr",
     "output_type": "stream",
     "text": [
      "WARNING: The communication API versions between Unity and python differ at the minor version level. Python API: 1.2.0, Unity API: 1.0.\n",
      "This means that some features may not work unless you upgrade the package with the lower version.Please find the versions that work best together from our release page.\n",
      "https://github.com/Unity-Technologies/ml-agents/releases\n"
     ]
    }
   ],
   "source": [
    "\n",
    "# env = UnityCrowdEnv(file_name=\"Test.app\", side_channels=[channel], no_graphics=False)\n",
    "# env = UnityCrowdEnv(file_name=None)\n",
    "env = UnitySimpleCrowdEnv(file_name=None)\n",
    "\n",
    "action_range = (\n",
    "    torch.tensor([-.3, -1.]),\n",
    "    torch.tensor([ 1.,  1.])\n",
    ")\n",
    "\n",
    "# channel.set_configuration_parameters(time_scale=1, width=1000, height=1000, quality_level=0)#, target_frame_rate=600)"
   ],
   "metadata": {
    "collapsed": false,
    "pycharm": {
     "name": "#%%\n"
    }
   }
  },
  {
   "cell_type": "code",
   "execution_count": 3,
   "outputs": [],
   "source": [
    "env.engine_channel.set_configuration_parameters(time_scale=100, width=1000, height=1000, quality_level=0)#, target_frame_rate=600)\n"
   ],
   "metadata": {
    "collapsed": false,
    "pycharm": {
     "name": "#%%\n"
    }
   }
  },
  {
   "cell_type": "code",
   "execution_count": 12,
   "outputs": [],
   "source": [
    "# agent = Agent.load_agent('/Users/redtachyon/tb_logs/new_metrics_2020-11-24_13-27-36/',\n",
    "#                          action_range=action_range,\n",
    "#                          weight_idx=1)\n"
   ],
   "metadata": {
    "collapsed": false,
    "pycharm": {
     "name": "#%%\n"
    }
   }
  },
  {
   "cell_type": "code",
   "execution_count": 4,
   "outputs": [],
   "source": [
    "model = MLPModel({\n",
    "    \"input_size\": 94,\n",
    "})\n",
    "\n",
    "agent = Agent(model, action_range=action_range)"
   ],
   "metadata": {
    "collapsed": false,
    "pycharm": {
     "name": "#%%\n"
    }
   }
  },
  {
   "cell_type": "code",
   "execution_count": 5,
   "outputs": [],
   "source": [
    "trainer_config = {\n",
    "    \"steps\": 500,  # number of steps we want in one PPO step\n",
    "\n",
    "    # Tensorboard settings\n",
    "    \"tensorboard_name\": \"\",  # str, set explicitly\n",
    "\n",
    "    # PPO\n",
    "    \"ppo_config\": {\n",
    "        # GD settings\n",
    "        \"optimizer\": \"adam\",\n",
    "        \"optimizer_kwargs\": {\n",
    "            \"lr\": 1e-4,\n",
    "            \"betas\": (0.9, 0.999),\n",
    "            \"eps\": 1e-8,\n",
    "            \"weight_decay\": 0,\n",
    "            \"amsgrad\": False\n",
    "        },\n",
    "        \"gamma\": 0.96,  # Discount factor\n",
    "\n",
    "        # PPO settings\n",
    "        \"ppo_steps\": 10,  # How many max. gradient updates in one iterations\n",
    "        \"eps\": 0.1,  # PPO clip parameter\n",
    "        \"target_kl\": 0.01,  # KL divergence limit\n",
    "        \"value_loss_coeff\": 0.1,\n",
    "        \"entropy_coeff\": 0.1,\n",
    "        \"max_grad_norm\": 0.5,\n",
    "\n",
    "        # Backpropagation settings\n",
    "        \"use_gpu\": False,\n",
    "    }\n",
    "}\n",
    "\n",
    "trainer = PPOCrowdTrainer(agent, env, trainer_config)\n"
   ],
   "metadata": {
    "collapsed": false,
    "pycharm": {
     "name": "#%%\n"
    }
   }
  },
  {
   "cell_type": "code",
   "execution_count": 6,
   "outputs": [
    {
     "name": "stderr",
     "output_type": "stream",
     "text": [
      "  0%|          | 0/1000 [00:00<?, ?it/s]\n"
     ]
    },
    {
     "name": "stdout",
     "output_type": "stream",
     "text": [
      "Begin training, logged in None\n"
     ]
    },
    {
     "ename": "ValueError",
     "evalue": "too many values to unpack (expected 3)",
     "output_type": "error",
     "traceback": [
      "\u001B[0;31m---------------------------------------------------------------------------\u001B[0m",
      "\u001B[0;31mValueError\u001B[0m                                Traceback (most recent call last)",
      "\u001B[0;32m<ipython-input-6-1b26bbed6313>\u001B[0m in \u001B[0;36m<module>\u001B[0;34m\u001B[0m\n\u001B[0;32m----> 1\u001B[0;31m \u001B[0mtrainer\u001B[0m\u001B[0;34m.\u001B[0m\u001B[0mtrain\u001B[0m\u001B[0;34m(\u001B[0m\u001B[0;36m1000\u001B[0m\u001B[0;34m)\u001B[0m\u001B[0;34m\u001B[0m\u001B[0;34m\u001B[0m\u001B[0m\n\u001B[0m\u001B[1;32m      2\u001B[0m \u001B[0;34m\u001B[0m\u001B[0m\n",
      "\u001B[0;32m~/projects/CrowdAI/training/trainers.py\u001B[0m in \u001B[0;36mtrain\u001B[0;34m(self, num_iterations, save_path, disable_tqdm, **collect_kwargs)\u001B[0m\n\u001B[1;32m    136\u001B[0m             \u001B[0mtimer\u001B[0m\u001B[0;34m.\u001B[0m\u001B[0mcheckpoint\u001B[0m\u001B[0;34m(\u001B[0m\u001B[0;34m)\u001B[0m\u001B[0;34m\u001B[0m\u001B[0;34m\u001B[0m\u001B[0m\n\u001B[1;32m    137\u001B[0m \u001B[0;34m\u001B[0m\u001B[0m\n\u001B[0;32m--> 138\u001B[0;31m             \u001B[0mfull_batch\u001B[0m\u001B[0;34m,\u001B[0m \u001B[0mcollector_metrics\u001B[0m \u001B[0;34m=\u001B[0m \u001B[0mself\u001B[0m\u001B[0;34m.\u001B[0m\u001B[0mcollector\u001B[0m\u001B[0;34m.\u001B[0m\u001B[0mcollect_data\u001B[0m\u001B[0;34m(\u001B[0m\u001B[0mnum_steps\u001B[0m\u001B[0;34m=\u001B[0m\u001B[0mself\u001B[0m\u001B[0;34m.\u001B[0m\u001B[0mconfig\u001B[0m\u001B[0;34m[\u001B[0m\u001B[0;34m\"steps\"\u001B[0m\u001B[0;34m]\u001B[0m\u001B[0;34m)\u001B[0m\u001B[0;34m\u001B[0m\u001B[0;34m\u001B[0m\u001B[0m\n\u001B[0m\u001B[1;32m    139\u001B[0m \u001B[0;34m\u001B[0m\u001B[0m\n\u001B[1;32m    140\u001B[0m             \u001B[0mdata_time\u001B[0m \u001B[0;34m=\u001B[0m \u001B[0mtimer\u001B[0m\u001B[0;34m.\u001B[0m\u001B[0mcheckpoint\u001B[0m\u001B[0;34m(\u001B[0m\u001B[0;34m)\u001B[0m\u001B[0;34m\u001B[0m\u001B[0;34m\u001B[0m\u001B[0m\n",
      "\u001B[0;32m~/projects/CrowdAI/training/collectors.py\u001B[0m in \u001B[0;36mcollect_data\u001B[0;34m(self, num_steps, deterministic, disable_tqdm, reset_memory, include_last, reset_start)\u001B[0m\n\u001B[1;32m    210\u001B[0m \u001B[0;34m\u001B[0m\u001B[0m\n\u001B[1;32m    211\u001B[0m             \u001B[0;31m# Collect the metrics passed by the environment\u001B[0m\u001B[0;34m\u001B[0m\u001B[0;34m\u001B[0m\u001B[0;34m\u001B[0m\u001B[0m\n\u001B[0;32m--> 212\u001B[0;31m             \u001B[0mmean_distance\u001B[0m\u001B[0;34m,\u001B[0m \u001B[0mmean_speed\u001B[0m\u001B[0;34m,\u001B[0m \u001B[0mmean_finish\u001B[0m \u001B[0;34m=\u001B[0m \u001B[0minfo_dict\u001B[0m\u001B[0;34m[\u001B[0m\u001B[0;34m\"metrics\"\u001B[0m\u001B[0;34m]\u001B[0m\u001B[0;34m\u001B[0m\u001B[0;34m\u001B[0m\u001B[0m\n\u001B[0m\u001B[1;32m    213\u001B[0m             \u001B[0mmetrics\u001B[0m\u001B[0;34m[\u001B[0m\u001B[0;34m\"mean_distance\"\u001B[0m\u001B[0;34m]\u001B[0m\u001B[0;34m.\u001B[0m\u001B[0mappend\u001B[0m\u001B[0;34m(\u001B[0m\u001B[0mmean_distance\u001B[0m\u001B[0;34m)\u001B[0m\u001B[0;34m\u001B[0m\u001B[0;34m\u001B[0m\u001B[0m\n\u001B[1;32m    214\u001B[0m             \u001B[0mmetrics\u001B[0m\u001B[0;34m[\u001B[0m\u001B[0;34m\"mean_speed\"\u001B[0m\u001B[0;34m]\u001B[0m\u001B[0;34m.\u001B[0m\u001B[0mappend\u001B[0m\u001B[0;34m(\u001B[0m\u001B[0mmean_speed\u001B[0m\u001B[0;34m)\u001B[0m\u001B[0;34m\u001B[0m\u001B[0;34m\u001B[0m\u001B[0m\n",
      "\u001B[0;31mValueError\u001B[0m: too many values to unpack (expected 3)"
     ]
    }
   ],
   "source": [
    "trainer.train(1000)"
   ],
   "metadata": {
    "collapsed": false,
    "pycharm": {
     "name": "#%%\n"
    }
   }
  },
  {
   "cell_type": "code",
   "execution_count": 7,
   "outputs": [
    {
     "name": "stdout",
     "output_type": "stream",
     "text": [
      "> \u001B[0;32m/Users/redtachyon/projects/CrowdAI/training/collectors.py\u001B[0m(212)\u001B[0;36mcollect_data\u001B[0;34m()\u001B[0m\n",
      "\u001B[0;32m    210 \u001B[0;31m\u001B[0;34m\u001B[0m\u001B[0m\n",
      "\u001B[0m\u001B[0;32m    211 \u001B[0;31m            \u001B[0;31m# Collect the metrics passed by the environment\u001B[0m\u001B[0;34m\u001B[0m\u001B[0;34m\u001B[0m\u001B[0;34m\u001B[0m\u001B[0m\n",
      "\u001B[0m\u001B[0;32m--> 212 \u001B[0;31m            \u001B[0mmean_distance\u001B[0m\u001B[0;34m,\u001B[0m \u001B[0mmean_speed\u001B[0m\u001B[0;34m,\u001B[0m \u001B[0mmean_finish\u001B[0m \u001B[0;34m=\u001B[0m \u001B[0minfo_dict\u001B[0m\u001B[0;34m[\u001B[0m\u001B[0;34m\"metrics\"\u001B[0m\u001B[0;34m]\u001B[0m\u001B[0;34m\u001B[0m\u001B[0;34m\u001B[0m\u001B[0m\n",
      "\u001B[0m\u001B[0;32m    213 \u001B[0;31m            \u001B[0mmetrics\u001B[0m\u001B[0;34m[\u001B[0m\u001B[0;34m\"mean_distance\"\u001B[0m\u001B[0;34m]\u001B[0m\u001B[0;34m.\u001B[0m\u001B[0mappend\u001B[0m\u001B[0;34m(\u001B[0m\u001B[0mmean_distance\u001B[0m\u001B[0;34m)\u001B[0m\u001B[0;34m\u001B[0m\u001B[0;34m\u001B[0m\u001B[0m\n",
      "\u001B[0m\u001B[0;32m    214 \u001B[0;31m            \u001B[0mmetrics\u001B[0m\u001B[0;34m[\u001B[0m\u001B[0;34m\"mean_speed\"\u001B[0m\u001B[0;34m]\u001B[0m\u001B[0;34m.\u001B[0m\u001B[0mappend\u001B[0m\u001B[0;34m(\u001B[0m\u001B[0mmean_speed\u001B[0m\u001B[0;34m)\u001B[0m\u001B[0;34m\u001B[0m\u001B[0;34m\u001B[0m\u001B[0m\n",
      "\u001B[0m\n",
      "{'has_decision': True, 'metrics': array([16.457783  ,  0.6141771 ,  0.        , 16.46251   ,  0.5454173 ,\n",
      "        0.        , 16.45987   ,  0.5838091 ,  0.        , 16.461994  ,\n",
      "        0.55292267,  0.        ], dtype=float32)}\n",
      "{'has_decision': True, 'metrics': array([16.457783  ,  0.6141771 ,  0.        , 16.46251   ,  0.5454173 ,\n",
      "        0.        , 16.45987   ,  0.5838091 ,  0.        , 16.461994  ,\n",
      "        0.55292267,  0.        ], dtype=float32)}\n",
      "array([16.457783  ,  0.6141771 ,  0.        , 16.46251   ,  0.5454173 ,\n",
      "        0.        , 16.45987   ,  0.5838091 ,  0.        , 16.461994  ,\n",
      "        0.55292267,  0.        ], dtype=float32)\n",
      "array([16.457783  ,  0.6141771 ,  0.        , 16.46251   ,  0.5454173 ,\n",
      "        0.        , 16.45987   ,  0.5838091 ,  0.        , 16.461994  ,\n",
      "        0.55292267,  0.        ], dtype=float32)\n",
      "array([16.457783  ,  0.6141771 ,  0.        , 16.46251   ,  0.5454173 ,\n",
      "        0.        , 16.45987   ,  0.5838091 ,  0.        , 16.461994  ,\n",
      "        0.55292267,  0.        ], dtype=float32)\n"
     ]
    }
   ],
   "source": [
    "import pdb; pdb.pm()"
   ],
   "metadata": {
    "collapsed": false,
    "pycharm": {
     "name": "#%%\n"
    }
   }
  },
  {
   "cell_type": "code",
   "execution_count": 15,
   "outputs": [
    {
     "name": "stderr",
     "output_type": "stream",
     "text": [
      "100%|██████████| 500/500 [00:24<00:00, 20.27it/s]\n"
     ]
    }
   ],
   "source": [
    "\n",
    "env.engine_channel.set_configuration_parameters(time_scale=2, width=1000, height=1000, quality_level=0)#, target_frame_rate=600)\n",
    "\n",
    "import time\n",
    "time.sleep(5)\n",
    "\n",
    "env.reset()\n",
    "data = trainer.collector.collect_data(num_steps=500, disable_tqdm=False)"
   ],
   "metadata": {
    "collapsed": false,
    "pycharm": {
     "name": "#%%\n"
    }
   }
  },
  {
   "cell_type": "code",
   "execution_count": 16,
   "outputs": [],
   "source": [
    "env.close()\n"
   ],
   "metadata": {
    "collapsed": false,
    "pycharm": {
     "name": "#%%\n"
    }
   }
  },
  {
   "cell_type": "code",
   "execution_count": 6,
   "outputs": [],
   "source": [
    "data, metrics = trainer.collector.collect_data(500)\n"
   ],
   "metadata": {
    "collapsed": false,
    "pycharm": {
     "name": "#%%\n"
    }
   }
  },
  {
   "cell_type": "code",
   "execution_count": 13,
   "outputs": [
    {
     "data": {
      "text/plain": "array([0.        , 0.        , 0.        , 0.        , 0.        ,\n       0.        , 0.        , 0.        , 0.        , 0.        ,\n       0.        , 0.        , 0.        , 0.        , 0.        ,\n       0.        , 0.        , 0.        , 0.        , 0.        ,\n       0.        , 0.        , 0.        , 0.        , 0.        ,\n       0.        , 0.        , 0.        , 0.        , 0.        ,\n       0.        , 0.        , 0.        , 0.        , 0.        ,\n       0.        , 0.        , 0.        , 0.        , 0.        ,\n       0.        , 0.        , 0.        , 0.        , 0.        ,\n       0.        , 0.        , 0.        , 0.        , 0.        ,\n       0.        , 0.        , 0.        , 0.        , 0.        ,\n       0.        , 0.        , 0.        , 0.        , 0.        ,\n       0.        , 0.        , 0.        , 0.        , 0.        ,\n       0.        , 0.        , 0.        , 0.        , 0.        ,\n       0.        , 0.        , 0.        , 0.        , 0.        ,\n       0.        , 0.        , 0.        , 0.        , 0.        ,\n       0.        , 0.        , 0.        , 0.        , 0.        ,\n       0.        , 0.        , 0.        , 0.        , 0.        ,\n       0.        , 0.        , 0.        , 0.        , 0.        ,\n       0.        , 0.        , 0.        , 0.        , 0.        ,\n       0.        , 0.        , 0.        , 0.        , 0.        ,\n       0.        , 0.        , 0.        , 0.        , 0.        ,\n       0.        , 0.        , 0.        , 0.        , 0.        ,\n       0.        , 0.        , 0.        , 0.        , 0.        ,\n       0.        , 0.        , 0.        , 0.        , 0.        ,\n       0.        , 0.        , 0.        , 0.        , 0.        ,\n       0.        , 0.        , 0.        , 0.        , 0.        ,\n       0.        , 0.        , 0.        , 0.        , 0.        ,\n       0.        , 0.        , 0.        , 0.        , 0.        ,\n       0.        , 0.        , 0.        , 0.        , 0.        ,\n       0.        , 0.        , 0.        , 0.        , 0.        ,\n       0.        , 0.        , 0.        , 0.        , 0.        ,\n       0.        , 0.        , 0.        , 0.        , 0.        ,\n       0.        , 0.        , 0.        , 0.        , 0.        ,\n       0.        , 0.        , 0.        , 0.        , 0.        ,\n       0.        , 0.        , 0.        , 0.        , 0.        ,\n       0.        , 0.        , 0.        , 0.        , 0.        ,\n       0.        , 0.        , 0.        , 0.        , 0.        ,\n       0.        , 0.        , 0.        , 0.        , 0.        ,\n       0.        , 0.        , 0.        , 0.        , 0.        ,\n       0.        , 0.        , 0.        , 0.        , 0.        ,\n       0.        , 0.        , 0.        , 0.        , 0.        ,\n       0.        , 0.        , 0.        , 0.        , 0.        ,\n       0.        , 0.        , 0.        , 0.        , 0.        ,\n       0.        , 0.        , 0.        , 0.        , 0.        ,\n       0.        , 0.        , 0.        , 0.        , 0.        ,\n       0.        , 0.        , 0.        , 0.        , 0.        ,\n       0.        , 0.        , 0.        , 0.        , 0.        ,\n       0.        , 0.        , 0.        , 0.        , 0.        ,\n       0.        , 0.05555556, 0.05555556, 0.05555556, 0.05555556,\n       0.05555556, 0.05555556, 0.05555556, 0.05555556, 0.05555556,\n       0.05555556, 0.05555556, 0.05555556, 0.05555556, 0.05555556,\n       0.05555556, 0.05555556, 0.05555556, 0.05555556, 0.05555556,\n       0.05555556, 0.05555556, 0.05555556, 0.05555556, 0.05555556,\n       0.05555556, 0.05555556, 0.05555556, 0.05555556, 0.05555556,\n       0.05555556, 0.05555556, 0.05555556, 0.05555556, 0.05555556,\n       0.05555556, 0.05555556, 0.05555556, 0.05555556, 0.05555556,\n       0.05555556, 0.05555556, 0.05555556, 0.05555556, 0.05555556,\n       0.05555556, 0.05555556, 0.05555556, 0.05555556, 0.05555556,\n       0.05555556, 0.05555556, 0.05555556, 0.05555556, 0.05555556,\n       0.05555556, 0.05555556, 0.05555556, 0.05555556, 0.05555556,\n       0.05555556, 0.05555556, 0.05555556, 0.05555556, 0.05555556,\n       0.05555556, 0.05555556, 0.05555556, 0.05555556, 0.05555556,\n       0.05555556, 0.05555556, 0.05555556, 0.05555556, 0.05555556,\n       0.05555556, 0.05555556, 0.05555556, 0.05555556, 0.05555556,\n       0.05555556, 0.05555556, 0.05555556, 0.05555556, 0.05555556,\n       0.05555556, 0.05555556, 0.05555556, 0.05555556, 0.05555556,\n       0.05555556, 0.05555556, 0.05555556, 0.05555556, 0.05555556,\n       0.05555556, 0.05555556, 0.05555556, 0.05555556, 0.05555556,\n       0.05555556, 0.05555556, 0.05555556, 0.05555556, 0.05555556,\n       0.05555556, 0.05555556, 0.05555556, 0.05555556, 0.05555556,\n       0.05555556, 0.05555556, 0.05555556, 0.05555556, 0.05555556,\n       0.05555556, 0.05555556, 0.05555556, 0.05555556, 0.05555556,\n       0.05555556, 0.05555556, 0.05555556, 0.05555556, 0.05555556,\n       0.05555556, 0.05555556, 0.05555556, 0.05555556, 0.05555556,\n       0.05555556, 0.05555556, 0.05555556, 0.05555556, 0.05555556,\n       0.05555556, 0.05555556, 0.05555556, 0.05555556, 0.05555556,\n       0.05555556, 0.05555556, 0.05555556, 0.05555556, 0.05555556,\n       0.05555556, 0.05555556, 0.05555556, 0.05555556, 0.05555556,\n       0.05555556, 0.05555556, 0.05555556, 0.05555556, 0.05555556,\n       0.05555556, 0.05555556, 0.05555556, 0.05555556, 0.05555556,\n       0.05555556, 0.05555556, 0.05555556, 0.05555556, 0.05555556,\n       0.05555556, 0.05555556, 0.05555556, 0.05555556, 0.05555556,\n       0.05555556, 0.05555556, 0.05555556, 0.05555556, 0.05555556,\n       0.05555556, 0.05555556, 0.05555556, 0.05555556, 0.05555556,\n       0.05555556, 0.05555556, 0.05555556, 0.05555556, 0.05555556,\n       0.05555556, 0.05555556, 0.05555556, 0.05555556, 0.05555556,\n       0.05555556, 0.05555556, 0.05555556, 0.05555556, 0.05555556,\n       0.05555556, 0.05555556, 0.05555556, 0.05555556, 0.05555556,\n       0.05555556, 0.05555556, 0.05555556, 0.05555556, 0.05555556,\n       0.05555556, 0.05555556, 0.05555556, 0.05555556, 0.05555556,\n       0.05555556, 0.05555556, 0.05555556, 0.05555556, 0.05555556,\n       0.05555556, 0.05555556, 0.05555556, 0.05555556, 0.05555556,\n       0.05555556, 0.05555556, 0.05555556, 0.05555556, 0.05555556,\n       0.05555556, 0.05555556, 0.05555556, 0.05555556, 0.05555556,\n       0.05555556, 0.05555556, 0.05555556, 0.05555556, 0.05555556,\n       0.05555556, 0.05555556, 0.05555556, 0.05555556, 0.05555556,\n       0.05555556, 0.05555556, 0.05555556, 0.05555556, 0.05555556,\n       0.05555556, 0.05555556, 0.05555556, 0.05555556, 0.05555556,\n       0.05555556, 0.05555556, 0.05555556, 0.05555556, 0.05555556],\n      dtype=float32)"
     },
     "execution_count": 13,
     "metadata": {},
     "output_type": "execute_result"
    }
   ],
   "source": [
    "\n",
    "metrics['mean_finish']"
   ],
   "metadata": {
    "collapsed": false,
    "pycharm": {
     "name": "#%%\n"
    }
   }
  },
  {
   "cell_type": "code",
   "execution_count": 12,
   "outputs": [
    {
     "data": {
      "text/plain": "tensor([False, False, False, False, False, False, False, False, False, False,\n        False, False, False, False, False, False, False, False, False, False,\n        False, False, False, False, False, False, False, False, False, False,\n        False, False, False, False, False, False, False, False, False, False,\n        False, False, False, False, False, False, False, False, False, False,\n        False, False, False, False, False, False, False, False, False, False,\n        False, False, False, False, False, False, False, False, False, False,\n        False, False, False, False, False, False, False, False, False, False,\n        False, False, False, False, False, False, False, False, False, False,\n        False, False, False, False, False, False, False, False, False, False,\n        False, False, False, False, False, False, False, False, False, False,\n        False, False, False, False, False, False, False, False, False, False,\n        False, False, False, False, False, False, False, False, False, False,\n        False, False, False, False, False, False, False, False, False, False,\n        False, False, False, False, False, False, False, False, False, False,\n        False, False, False, False, False, False, False, False, False, False,\n        False, False, False, False, False, False, False, False, False, False,\n        False, False, False, False, False, False, False, False, False, False,\n        False, False, False, False, False, False, False, False, False, False,\n        False, False, False, False, False, False, False, False, False, False,\n        False, False, False, False, False, False, False, False, False, False,\n        False, False, False, False, False, False, False, False, False, False,\n        False, False, False, False, False, False, False, False, False, False,\n        False, False, False, False, False, False, False, False, False, False,\n        False, False, False, False, False, False, False, False, False, False,\n        False, False, False, False, False, False, False, False, False, False,\n        False, False, False, False, False, False, False, False, False, False,\n        False, False, False, False, False, False, False, False, False, False,\n        False, False, False, False, False, False, False, False, False, False,\n        False, False, False, False, False, False, False, False, False, False,\n        False, False, False, False, False, False, False, False, False, False,\n        False, False, False, False, False, False, False, False, False, False,\n        False, False, False, False, False, False, False, False, False, False,\n        False, False, False, False, False, False, False, False, False, False,\n        False, False, False, False, False, False, False, False, False, False,\n        False, False, False, False, False, False, False, False, False, False,\n        False, False, False, False, False, False, False, False, False, False,\n        False, False, False, False, False, False, False, False, False, False,\n        False, False, False, False, False, False, False, False, False, False,\n        False, False, False, False, False, False, False, False, False, False,\n        False, False, False, False, False, False, False, False, False, False,\n        False, False, False, False, False, False, False, False, False, False,\n        False, False, False, False, False, False, False, False, False, False,\n        False, False, False, False, False, False, False, False, False, False,\n        False, False, False, False, False, False, False, False, False, False,\n        False, False, False, False, False, False, False, False, False, False,\n        False, False, False, False, False, False, False, False, False, False,\n        False, False, False, False, False, False, False, False, False, False,\n        False, False, False, False, False, False, False, False, False, False,\n        False, False, False, False, False, False, False, False, False,  True])"
     },
     "execution_count": 12,
     "metadata": {},
     "output_type": "execute_result"
    }
   ],
   "source": [
    "data['dones']['Person1?team=0&id=0']"
   ],
   "metadata": {
    "collapsed": false,
    "pycharm": {
     "name": "#%%\n"
    }
   }
  },
  {
   "cell_type": "code",
   "execution_count": null,
   "outputs": [],
   "source": [
    "# for _ in trange(1000):\n",
    "#     action_dict = {key: np.array([1., np.random.rand() - 0.5]) for key in obs_dict if key.startswith(\"Person\")}\n",
    "#     env.step(action_dict)"
   ],
   "metadata": {
    "collapsed": false,
    "pycharm": {
     "name": "#%%\n"
    }
   }
  },
  {
   "cell_type": "code",
   "execution_count": null,
   "outputs": [],
   "source": [
    "# for _ in trange(100):\n",
    "#     action_dict = {key: np.array([0., 0.]) for key in obs_dict if key.startswith(\"Person\")}\n",
    "#     env.step(action_dict)"
   ],
   "metadata": {
    "collapsed": false,
    "pycharm": {
     "name": "#%%\n"
    }
   }
  },
  {
   "cell_type": "code",
   "execution_count": null,
   "outputs": [],
   "source": [
    "# for _ in trange(50):\n",
    "#     env.unity.set_actions(\"Person1?team=0\", np.repeat([[1, -1]], 9, 0))\n",
    "#\n",
    "#     env.unity.step()\n",
    "#\n",
    "#\n",
    "# for _ in trange(50):\n",
    "#     env.unity.set_actions(\"Person1?team=0\", np.repeat([[1, 1]], 9, 0))\n",
    "#\n",
    "#     env.unity.step()\n",
    "#"
   ],
   "metadata": {
    "collapsed": false,
    "pycharm": {
     "name": "#%%\n"
    }
   }
  }
 ],
 "metadata": {
  "kernelspec": {
   "display_name": "Python 3.8 MARL",
   "language": "python",
   "name": "marl"
  },
  "language_info": {
   "codemirror_mode": {
    "name": "ipython",
    "version": 3
   },
   "file_extension": ".py",
   "mimetype": "text/x-python",
   "name": "python",
   "nbconvert_exporter": "python",
   "pygments_lexer": "ipython3",
   "version": "3.8.5"
  }
 },
 "nbformat": 4,
 "nbformat_minor": 4
}