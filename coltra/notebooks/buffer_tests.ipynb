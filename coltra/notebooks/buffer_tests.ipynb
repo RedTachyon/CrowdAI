{
 "cells": [
  {
   "cell_type": "code",
   "execution_count": 1,
   "metadata": {},
   "outputs": [],
   "source": [
    "import sys\n",
    "sys.path.insert(0, '..')\n",
    "\n",
    "from dataclasses import dataclass, field\n",
    "from typing import List, Dict, Union, get_type_hints, TypeVar\n",
    "\n",
    "import numpy as np\n",
    "\n",
    "import torch\n",
    "\n",
    "from buffers import *\n",
    "\n",
    "from __future__ import annotations"
   ]
  },
  {
   "cell_type": "code",
   "execution_count": 2,
   "metadata": {},
   "outputs": [],
   "source": [
    "memory = MemoryBuffer()"
   ]
  },
  {
   "cell_type": "code",
   "execution_count": 4,
   "metadata": {},
   "outputs": [],
   "source": [
    "from agents import ConstantAgent, CAgent\n",
    "\n",
    "from models import MLPModel"
   ]
  },
  {
   "cell_type": "code",
   "execution_count": 5,
   "metadata": {},
   "outputs": [],
   "source": [
    "model = MLPModel({})"
   ]
  },
  {
   "cell_type": "code",
   "execution_count": 6,
   "metadata": {},
   "outputs": [
    {
     "data": {
      "text/plain": [
       "{'input_size': 94,\n",
       " 'num_actions': 2,\n",
       " 'activation': 'leaky_relu',\n",
       " 'hidden_sizes': [64, 64],\n",
       " 'separate_value': False,\n",
       " 'sigma0': 0.3,\n",
       " 'initializer': 'kaiming_uniform'}"
      ]
     },
     "execution_count": 6,
     "metadata": {},
     "output_type": "execute_result"
    }
   ],
   "source": [
    "model.config"
   ]
  },
  {
   "cell_type": "code",
   "execution_count": 7,
   "metadata": {},
   "outputs": [],
   "source": [
    "agent = CAgent(model)"
   ]
  },
  {
   "cell_type": "code",
   "execution_count": 12,
   "metadata": {},
   "outputs": [],
   "source": [
    "obs = Observation(vector=np.random.randn(5, 94).astype(np.float32))"
   ]
  },
  {
   "cell_type": "code",
   "execution_count": 14,
   "metadata": {},
   "outputs": [],
   "source": [
    "action, _, _ = agent.act(obs)"
   ]
  },
  {
   "cell_type": "code",
   "execution_count": 15,
   "metadata": {},
   "outputs": [
    {
     "data": {
      "text/plain": [
       "(tensor([-1.3707,  0.1812, -0.3733, -0.7954, -0.6431], grad_fn=<SumBackward1>),\n",
       " tensor([-0.7899, -1.3452,  0.2807, -1.2094, -2.2453], grad_fn=<SumBackward1>),\n",
       " tensor([0.4299, 0.4299, 0.4299, 0.4299, 0.4299], grad_fn=<SumBackward1>))"
      ]
     },
     "execution_count": 15,
     "metadata": {},
     "output_type": "execute_result"
    }
   ],
   "source": [
    "agent.evaluate(obs, action)"
   ]
  },
  {
   "cell_type": "code",
   "execution_count": 3,
   "metadata": {},
   "outputs": [
    {
     "name": "stdout",
     "output_type": "stream",
     "text": [
      "CPU times: user 402 ms, sys: 12.2 ms, total: 414 ms\n",
      "Wall time: 414 ms\n"
     ]
    }
   ],
   "source": [
    "%%time\n",
    "\n",
    "agents = [\"Agent1\", \"Agent2\", \"Agent3\"]\n",
    "\n",
    "for _ in range(10000):\n",
    "    obs = {agent_id: Observation(vector=np.random.randn(81).astype(np.float32)) for agent_id in agents}\n",
    "    action = {agent_id: Action(continuous=np.random.randn(2).astype(np.float32)) for agent_id in agents}\n",
    "    reward = {agent_id: np.random.randn(1).astype(np.float32) for agent_id in agents}\n",
    "    value = {agent_id: np.random.randn(1).astype(np.float32) for agent_id in agents}\n",
    "    done = {agent_id: False for agent_id in agents}\n",
    "\n",
    "    memory.append(obs, action, reward, value, done)"
   ]
  },
  {
   "cell_type": "code",
   "execution_count": 8,
   "metadata": {},
   "outputs": [
    {
     "name": "stdout",
     "output_type": "stream",
     "text": [
      "CPU times: user 432 ms, sys: 72.6 ms, total: 504 ms\n",
      "Wall time: 502 ms\n"
     ]
    }
   ],
   "source": [
    "%%time\n",
    "data = memory.tensorify()"
   ]
  },
  {
   "cell_type": "code",
   "execution_count": 10,
   "metadata": {},
   "outputs": [
    {
     "data": {
      "text/plain": [
       "MemoryRecord(obs=Observation(vector=tensor([[-1.4880,  1.2864, -1.2055,  ..., -0.6864,  0.1039,  0.1918],\n",
       "        [-1.2485, -0.7422, -1.5813,  ...,  2.5104, -0.6631, -0.5201],\n",
       "        [ 0.6763, -2.1487,  1.0342,  ..., -0.0298, -0.0790, -0.7663],\n",
       "        ...,\n",
       "        [ 1.0044, -0.1749,  1.1084,  ...,  0.8365, -1.2717, -1.3375],\n",
       "        [ 1.7029, -1.3934, -0.8514,  ..., -1.0454, -1.4887, -1.1994],\n",
       "        [-0.2679,  0.0317, -1.6959,  ..., -0.8685, -0.0649, -0.1062]]), rays=None, buffer=None, image=None), action=Action(continuous=tensor([[ 0.4727,  1.5711],\n",
       "        [ 1.1814, -0.0202],\n",
       "        [ 0.0876,  0.3682],\n",
       "        ...,\n",
       "        [-0.0092,  0.4263],\n",
       "        [-0.0558,  0.7332],\n",
       "        [-0.1934,  0.2680]]), discrete=None), reward=tensor([[-1.6922],\n",
       "        [ 1.9348],\n",
       "        [ 0.8651],\n",
       "        ...,\n",
       "        [ 0.1332],\n",
       "        [ 1.4387],\n",
       "        [ 0.2664]]), value=tensor([[-0.3821],\n",
       "        [-0.2239],\n",
       "        [ 1.0835],\n",
       "        ...,\n",
       "        [ 0.8901],\n",
       "        [-0.0552],\n",
       "        [ 0.1826]]), done=tensor([False, False, False,  ..., False, False, False]))"
      ]
     },
     "execution_count": 10,
     "metadata": {},
     "output_type": "execute_result"
    }
   ],
   "source": [
    "data[\"Agent1\"]"
   ]
  },
  {
   "cell_type": "code",
   "execution_count": 7,
   "metadata": {},
   "outputs": [
    {
     "name": "stdout",
     "output_type": "stream",
     "text": [
      "CPU times: user 386 ms, sys: 61.8 ms, total: 448 ms\n",
      "Wall time: 427 ms\n"
     ]
    }
   ],
   "source": [
    "%%time\n",
    "data = memory.crowd_tensorify()"
   ]
  },
  {
   "cell_type": "code",
   "execution_count": 6,
   "metadata": {},
   "outputs": [
    {
     "data": {
      "text/plain": [
       "30000"
      ]
     },
     "execution_count": 6,
     "metadata": {},
     "output_type": "execute_result"
    }
   ],
   "source": [
    "data.obs.batch_size"
   ]
  },
  {
   "cell_type": "code",
   "execution_count": null,
   "metadata": {},
   "outputs": [],
   "source": []
  }
 ],
 "metadata": {
  "kernelspec": {
   "display_name": "Poetry 3.8 (MARL)",
   "language": "python",
   "name": "marl"
  },
  "language_info": {
   "codemirror_mode": {
    "name": "ipython",
    "version": 3
   },
   "file_extension": ".py",
   "mimetype": "text/x-python",
   "name": "python",
   "nbconvert_exporter": "python",
   "pygments_lexer": "ipython3",
   "version": "3.8.3"
  }
 },
 "nbformat": 4,
 "nbformat_minor": 4
}
