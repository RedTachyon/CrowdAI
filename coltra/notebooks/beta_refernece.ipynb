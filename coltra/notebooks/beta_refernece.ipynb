{
 "cells": [
  {
   "cell_type": "code",
   "execution_count": 13,
   "metadata": {},
   "outputs": [],
   "source": [
    "import numpy as np\n",
    "from numba import njit\n",
    "from typing import Tuple\n",
    "import matplotlib.pyplot as plt\n",
    "\n",
    "\n",
    "def convert_params(mu: float, eta: float) -> Tuple[float, float]:\n",
    "    \"\"\"\n",
    "    Convert the mu-eta parametrization to alpha-beta\n",
    "    \"\"\"\n",
    "    alpha = mu / (eta * (1 - mu))\n",
    "    beta = 1./eta\n",
    "\n",
    "    return alpha, beta\n",
    "\n",
    "\n",
    "def heuritic_params(mu: float) -> Tuple[float, float]:\n",
    "    p = (1 - mu) / mu\n",
    "    sigma = 1 - mu\n",
    "\n",
    "    a = (p - sigma ** 2) / sigma ** 2\n",
    "    b = p * a\n",
    "\n",
    "    return 2 * a, 2 * b\n",
    "\n",
    "\n",
    "@njit\n",
    "def get_beta_vector(T: int,\n",
    "                    α: float,\n",
    "                    β: float) -> np.ndarray:\n",
    "    discount = np.zeros((1, T), dtype=np.float32)\n",
    "\n",
    "    current_discount = 1\n",
    "    for t in range(T):\n",
    "        discount[0, t] = current_discount\n",
    "        current_discount *= (α + t) / (α + β + t)\n",
    "\n",
    "    return discount\n",
    "\n",
    "\n",
    "@njit\n",
    "def beta_gae(rewards: np.ndarray,  # [T, N]\n",
    "             values: np.ndarray,  # [T, N]\n",
    "             last_values: np.ndarray,  # [1, N]\n",
    "             dones: np.ndarray,  # [T, N], actually next_dones (whether previous step was terminal)\n",
    "             final_dones: np.ndarray,  # [1, ]\n",
    "             α: float = 99.,\n",
    "             β: float = 1.,\n",
    "             λ: float = 0.95):\n",
    "    T = rewards.shape[0]\n",
    "    N = rewards.shape[1]  # Number of envs\n",
    "\n",
    "    advantages = np.zeros((T, N), dtype=np.float32)\n",
    "\n",
    "    final_dones = final_dones.reshape((1, N))\n",
    "    last_values = last_values.reshape((1, N))\n",
    "    next_non_terminal = 1 - np.concatenate((dones, final_dones))[1:]\n",
    "    next_values = np.concatenate((values, last_values))[1:]\n",
    "\n",
    "    Γ = get_beta_vector(T + 1, α, β)\n",
    "    lambdas = np.array([[λ ** l for l in range(T)]], dtype=np.float32)\n",
    "\n",
    "    #     γ = α / (α + β)\n",
    "    #     Γ = np.array([[γ**l for l in range(T+1)]])\n",
    "\n",
    "    for n in range(N):\n",
    "        # Done preprocessing step\n",
    "        steps_until_eoe = np.zeros((T,), dtype=np.int32)\n",
    "        is_final = np.zeros((T,), dtype=np.int32)\n",
    "        counter = 0\n",
    "        final = 1\n",
    "        done = False\n",
    "        factor = None\n",
    "\n",
    "        for i, d in list(enumerate(dones[:, n]))[::-1]:\n",
    "            if done:\n",
    "                counter = 0\n",
    "                done = False\n",
    "                final = 0\n",
    "            steps_until_eoe[i] = counter\n",
    "            is_final[i] = final\n",
    "            counter += 1\n",
    "            done = d\n",
    "\n",
    "        for i in range(T):\n",
    "            steps_left = steps_until_eoe[i]\n",
    "\n",
    "            old_value = -values[i, n]\n",
    "            future_rewards = (lambdas[:, :steps_left + 1] * Γ[:, :steps_left + 1]) @ rewards[i:i + steps_left + 1,\n",
    "                                                                                     n:n + 1]\n",
    "\n",
    "            if is_final[i]:\n",
    "                steps_left += 1\n",
    "\n",
    "                # Fix to properly handle the very last value of an episode\n",
    "                if factor is None:\n",
    "                    factor = np.array([[1 - λ for i in range(steps_left)]], dtype=np.float32).T\n",
    "                    factor[-1] = 1.\n",
    "                else:\n",
    "                    factor = factor[1:]\n",
    "\n",
    "                future_values = (lambdas[:, :steps_left] * Γ[:, 1:steps_left + 1]) @ (\n",
    "                        next_values[i:i + steps_left, n:n + 1] * next_non_terminal[i:i + steps_left, n:n + 1] * factor[\n",
    "                                                                                                                -steps_left:])\n",
    "\n",
    "            else:\n",
    "                future_values = np.float32(1. - λ) * (lambdas[:, :steps_left] * Γ[:, 1:steps_left + 1]) @ (\n",
    "                        next_values[i:i + steps_left, n:n + 1] * next_non_terminal[i:i + steps_left, n:n + 1])\n",
    "\n",
    "            total = old_value + future_rewards + future_values\n",
    "            advantages[i, n] = total[0, 0]\n",
    "\n",
    "    returns = advantages + values\n",
    "\n",
    "    return returns, advantages\n",
    "\n"
   ]
  },
  {
   "cell_type": "code",
   "execution_count": 18,
   "metadata": {},
   "outputs": [],
   "source": [
    "rewards = np.zeros((100, 1), dtype=np.float32)\n",
    "rewards[-1] = 1\n",
    "values = np.zeros((100, 1), dtype=np.float32)\n",
    "last_values = np.zeros((1, 1), dtype=np.float32)\n",
    "dones = np.array([False for _ in range(100)]).reshape((100, 1))\n",
    "final_dones = np.array([False])"
   ]
  },
  {
   "cell_type": "code",
   "execution_count": 25,
   "metadata": {},
   "outputs": [],
   "source": [
    "returns, advantages = beta_gae(rewards, values, last_values, dones, final_dones, 99*2, 1*2, 0.95)"
   ]
  },
  {
   "cell_type": "code",
   "execution_count": 26,
   "metadata": {},
   "outputs": [
    {
     "data": {
      "text/plain": [
       "[<matplotlib.lines.Line2D at 0x7fb638aaf7c0>]"
      ]
     },
     "execution_count": 26,
     "metadata": {},
     "output_type": "execute_result"
    },
    {
     "data": {
      "image/png": "[encoded data removed]",
      "text/plain": [
       "<Figure size 432x288 with 1 Axes>"
      ]
     },
     "metadata": {
      "needs_background": "light"
     },
     "output_type": "display_data"
    }
   ],
   "source": [
    "plt.plot(returns)"
   ]
  },
  {
   "cell_type": "code",
   "execution_count": 27,
   "metadata": {},
   "outputs": [
    {
     "data": {
      "text/plain": [
       "array([0.00277449, 0.00294024, 0.00311598, 0.00330229, 0.00349982,\n",
       "       0.00370925, 0.00393131, 0.00416676, 0.00441642, 0.00468115,\n",
       "       0.00496186, 0.00525954, 0.00557521, 0.00590997, 0.00626498,\n",
       "       0.00664149, 0.0070408 , 0.00746431, 0.00791349, 0.00838992,\n",
       "       0.00889526, 0.00943128, 0.00999986, 0.01060301, 0.01124283,\n",
       "       0.01192157, 0.01264163, 0.01340555, 0.01421603, 0.01507591,\n",
       "       0.01598825, 0.01695628, 0.01798342, 0.01907333, 0.02022986,\n",
       "       0.02145714, 0.02275955, 0.02414171, 0.02560855, 0.02716534,\n",
       "       0.02881762, 0.03057132, 0.03243274, 0.03440854, 0.03650584,\n",
       "       0.03873217, 0.04109558, 0.04360457, 0.04626822, 0.04909616,\n",
       "       0.05209863, 0.05528652, 0.05867141, 0.0622656 , 0.06608219,\n",
       "       0.07013507, 0.07443906, 0.07900988, 0.08386426, 0.08902001,\n",
       "       0.09449603, 0.10031247, 0.10649073, 0.11305358, 0.12002526,\n",
       "       0.12743154, 0.13529985, 0.14365932, 0.15254104, 0.16197804,\n",
       "       0.1720054 , 0.18266061, 0.19398344, 0.20601624, 0.21880415,\n",
       "       0.2323951 , 0.24684022, 0.26219392, 0.2785141 , 0.2958624 ,\n",
       "       0.31430444, 0.3339102 , 0.35475403, 0.37691525, 0.40047827,\n",
       "       0.42553303, 0.45217526, 0.48050708, 0.51063704, 0.5426811 ,\n",
       "       0.5767625 , 0.6130128 , 0.65157205, 0.6925894 , 0.7362242 ,\n",
       "       0.7826458 , 0.8320351 , 0.88458467, 0.9405    , 1.        ],\n",
       "      dtype=float32)"
      ]
     },
     "execution_count": 27,
     "metadata": {},
     "output_type": "execute_result"
    }
   ],
   "source": [
    "advantages.ravel()"
   ]
  },
  {
   "cell_type": "code",
   "execution_count": null,
   "metadata": {},
   "outputs": [],
   "source": []
  }
 ],
 "metadata": {
  "kernelspec": {
   "display_name": "Poetry 3.8 (MARL)",
   "language": "python",
   "name": "marl"
  },
  "language_info": {
   "codemirror_mode": {
    "name": "ipython",
    "version": 3
   },
   "file_extension": ".py",
   "mimetype": "text/x-python",
   "name": "python",
   "nbconvert_exporter": "python",
   "pygments_lexer": "ipython3",
   "version": "3.8.3"
  }
 },
 "nbformat": 4,
 "nbformat_minor": 4
}
