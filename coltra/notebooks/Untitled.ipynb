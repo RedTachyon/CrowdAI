{
 "cells": [
  {
   "cell_type": "code",
   "execution_count": 23,
   "metadata": {},
   "outputs": [],
   "source": [
    "import numpy as np\n",
    "import torch\n",
    "from torch import Tensor\n",
    "from typing import List"
   ]
  },
  {
   "cell_type": "code",
   "execution_count": 38,
   "metadata": {},
   "outputs": [],
   "source": [
    "def minibatches(*tensors: List[Tensor], batch_size: int = 32, shuffle: bool = True):\n",
    "    full_size = tensors[0].shape[0]\n",
    "    for tensor in tensors:\n",
    "        assert tensor.shape[0] == full_size, \"One of the tensors has a different batch size\"\n",
    "        \n",
    "    indices = np.random.permutation(full_size)\n",
    "    \n",
    "    for i in range(0, full_size, batch_size):\n",
    "        idx = indices[slice(i, i+batch_size)]\n",
    "        \n",
    "        yield [tensor[idx, ...] for tensor in tensors]"
   ]
  },
  {
   "cell_type": "code",
   "execution_count": 29,
   "metadata": {},
   "outputs": [
    {
     "name": "stdout",
     "output_type": "stream",
     "text": [
      "0 32\n",
      "32 64\n",
      "64 96\n",
      "96 128\n"
     ]
    }
   ],
   "source": [
    "for i in range(0, 100, 32):\n",
    "    print(i, i+32)"
   ]
  },
  {
   "cell_type": "code",
   "execution_count": 25,
   "metadata": {},
   "outputs": [],
   "source": [
    "obs_batch = torch.randn(1000, 10)\n",
    "action_batch = torch.randn(1000)\n",
    "value_batch = torch.randn(1000, 1)"
   ]
  },
  {
   "cell_type": "code",
   "execution_count": 39,
   "metadata": {},
   "outputs": [
    {
     "name": "stdout",
     "output_type": "stream",
     "text": [
      "torch.Size([256, 10])\n",
      "torch.Size([256])\n",
      "torch.Size([256, 1])\n",
      "\n",
      "torch.Size([256, 10])\n",
      "torch.Size([256])\n",
      "torch.Size([256, 1])\n",
      "\n",
      "torch.Size([256, 10])\n",
      "torch.Size([256])\n",
      "torch.Size([256, 1])\n",
      "\n",
      "torch.Size([232, 10])\n",
      "torch.Size([232])\n",
      "torch.Size([232, 1])\n",
      "\n"
     ]
    }
   ],
   "source": [
    "for obs, action, value in minibatches(obs_batch, action_batch, value_batch, batch_size=256):\n",
    "    print(obs.shape)\n",
    "    print(action.shape)\n",
    "    print(value.shape)\n",
    "    print()"
   ]
  },
  {
   "cell_type": "code",
   "execution_count": 16,
   "metadata": {},
   "outputs": [
    {
     "data": {
      "text/plain": [
       "array([6, 9, 2, 5, 3, 7, 1, 4, 0, 8])"
      ]
     },
     "execution_count": 16,
     "metadata": {},
     "output_type": "execute_result"
    }
   ],
   "source": [
    "np.random.permutation(10)"
   ]
  },
  {
   "cell_type": "code",
   "execution_count": 5,
   "metadata": {},
   "outputs": [
    {
     "name": "stdout",
     "output_type": "stream",
     "text": [
      "(1, 2, 3, 32, True)\n",
      "16\n",
      "False\n"
     ]
    }
   ],
   "source": [
    "minibatches(1, 2, 3, 32, True, batch_size=16, shuffle=False)"
   ]
  }
 ],
 "metadata": {
  "kernelspec": {
   "display_name": "Poetry 3.8 (MARL)",
   "language": "python",
   "name": "marl"
  },
  "language_info": {
   "codemirror_mode": {
    "name": "ipython",
    "version": 3
   },
   "file_extension": ".py",
   "mimetype": "text/x-python",
   "name": "python",
   "nbconvert_exporter": "python",
   "pygments_lexer": "ipython3",
   "version": "3.8.3"
  }
 },
 "nbformat": 4,
 "nbformat_minor": 4
}
